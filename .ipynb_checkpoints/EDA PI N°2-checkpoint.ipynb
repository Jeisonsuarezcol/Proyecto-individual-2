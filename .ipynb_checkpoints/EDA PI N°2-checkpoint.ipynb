{
 "cells": [
  {
   "cell_type": "code",
   "execution_count": 3,
   "id": "367fa0a0",
   "metadata": {},
   "outputs": [],
   "source": [
    "import matplotlib.pyplot as plt\n",
    "import matplotlib.ticker as ticker\n",
    "import numpy as np\n",
    "import pandas as pd\n",
    "import seaborn as sns\n",
    "import requests\n",
    "import json"
   ]
  },
  {
   "cell_type": "markdown",
   "id": "8670650e",
   "metadata": {},
   "source": [
    "<font size=\"4\"> Antes de iniciar este análisis exploratorio de datos (EDA) lo primero que debemos hacer es conectarnos a la API de donde sacaremos todos los datos, en este caso nos conectaremos a la página web del *Ente Nacional de Comunicaciones* (ENACOM) quién es un ente público de Argentina.</font>\n",
    "\n",
    "<font size=\"4\">El ENACOM regula el espectro y garantiza el acceso a servicios públicos esenciales de TIC y Telecomunicaciones, tiene como objetivo la pluralidad de voces, el federalismo, la inclusión y la libertad de expresión en todo el país.</font>"
   ]
  },
  {
   "cell_type": "code",
   "execution_count": 4,
   "id": "aeca32b4",
   "metadata": {
    "scrolled": true
   },
   "outputs": [
    {
     "name": "stdout",
     "output_type": "stream",
     "text": [
      "{'result': None, 'status': None, 'endpoint': 'file://15121/43161/44284949664329718784034050929648151938', 'description': 'Fondos destinados, adjudicados y pagados en programas de servicio universal', 'parameters': [], 'tags': [], 'last_revision_id': None, 'timestamp': 1687367131000, 'created_at': 1687367119, 'title': 'Fondos de servicio universal', 'modified_at': 1687367131, 'category_id': '83830', 'methods': None, 'sources': [], 'total_revisions': None, 'frequency': 'monthly', 'link': 'http://datosabiertos.enacom.gob.ar/datasets/196337/fondos-de-servicio-universal/', 'user': 'asrozada', 'status_str': None, 'guid': 'FONDO-DE-SERVI-UNIVE', 'category_name': 'Servicio Universal'}\n"
     ]
    }
   ],
   "source": [
    "API_KEY ='l5x9hIoqBBUmB9QgiwiYj6YaK2y5GxXQvS8UPmDN'\n",
    "\n",
    "url = f'http://api.datosabiertos.enacom.gob.ar/api/v2/datasets.json/?auth_key={API_KEY}'\n",
    "\n",
    "response = requests.get(url)\n",
    "\n",
    "if response.status_code == 200:\n",
    "    data = json.loads(response.content)\n",
    "    print(data[6])\n",
    "else:\n",
    "    print('Error al obtener los datos de la API')"
   ]
  },
  {
   "cell_type": "markdown",
   "id": "225a622a",
   "metadata": {},
   "source": [
    "<font size=\"4\"> Una vez conectados a la API por medio de una clave accedemos a los metadatos de cada DataFrame extrayendo la descripción, el identificador del recurso (guid) y el título.</font>"
   ]
  },
  {
   "cell_type": "code",
   "execution_count": 5,
   "id": "f7cb46ab",
   "metadata": {
    "scrolled": true
   },
   "outputs": [
    {
     "name": "stdout",
     "output_type": "stream",
     "text": [
      "1)\n",
      "Accesos, llamadas, minutos, SMS, ingresos y penetración del servicio\n",
      "TELEF-MOVIL\n",
      "Telefonía móvil\n",
      "\n",
      "2)\n",
      "Correos Privados + Correo Oficial - Ventas y Unidades por Provincia - Personal Ocupado (Trimestral)\n",
      "A-8-INGRE-DE-FONDO\n",
      "Mercado Postal - Ventas y Unidades por Provincia - Personal Ocupado\n",
      "\n",
      "3)\n",
      "Correos Privados + Correo Oficial - Ventas de Servicios Postales (Trimestral)\n",
      "MERCA-POSTA-VENTA-DE-SERVI\n",
      "Mercado Postal - Ventas de Servicios Postales\n",
      "\n",
      "4)\n",
      "Correos Privados + Correo Oficial - Unidades de Servicios Postales (Trimestral)\n",
      "MERCA-POSTA-UNIDA-DE-SERVI\n",
      "Mercado Postal - Unidades de Servicios Postales\n",
      "\n",
      "5)\n",
      "Listado de radioaficionados activos\n",
      "LISTA-DE-RADIO\n",
      "Listado de Radioaficionados\n",
      "\n",
      "6)\n",
      "Estadísticas mensuales sobre denuncias y reclamos recibidos por las delegaciones de Enacom\n",
      "DENUN-Y-RECLA-12878\n",
      "Denuncias y reclamos\n",
      "\n",
      "7)\n",
      "Fondos destinados, adjudicados y pagados en programas de servicio universal\n",
      "FONDO-DE-SERVI-UNIVE\n",
      "Fondos de servicio universal\n",
      "\n",
      "8)\n",
      "Cantidad de proyectos adjudicados por año y cantidad de beneficiarios alcanzados con los mismos.\n",
      "PROYE-ADJUD-Y-BENEF-ALCAN\n",
      "Proyectos adjudicados y Beneficiarios alcanzados\n",
      "\n",
      "9)\n",
      "Montos en millones de pesos Pagados y Adjudicados por FOMECA\n",
      "FOMEC-PAGOS-Y-ADJUD-75939\n",
      "FOMECA - Pagos y Adjudicaciones\n",
      "\n",
      "10)\n",
      "Listado de licencias y autorizaciones audiovisuales\n",
      "LISTA-DE-LICEN-AUDIO\n",
      "Listado de licencias audiovisuales\n",
      "\n",
      "11)\n",
      "Mapa geolocalizado de las distintas tecnologías disponibles para el acceso a Internet fijo y móvil\n",
      "CONEC-AL-SERVI-DE-INTER\n",
      "Conectividad al servicio de Internet\n",
      "\n",
      "12)\n",
      "Accesos, ingresos y penetración del servicio\n",
      "TELEF-FIJA\n",
      "Telefonía fija\n",
      "\n",
      "13)\n",
      "Penetración del servicio de Internet fijo por métrica de población y métrica de hogares\n",
      "PENET-DEL-SERVI-DE-INTER\n",
      "Penetración del servicio de Internet fijo\n",
      "\n",
      "14)\n",
      "Accesos, ingresos, penetración de la televisión por suscripción y satelital\n",
      "TELEV-PAGA\n",
      "Televisión paga\n",
      "\n",
      "15)\n",
      "Número de accesos al servicio de Internet fijo por tecnología  en cada localidad declarada Categoría\n",
      "ACCES-A-INTER-FIJO-46973\n",
      "Accesos a Internet fijo por tecnología y localidad\n",
      "\n",
      "16)\n",
      "Número de accesos al servicio de Internet fijo por velocidad de bajada en cada localidad declarada\n",
      "ACCES-A-INTER-FIJO-86398\n",
      "Accesos a Internet fijo por velocidad de bajada y localidad\n",
      "\n",
      "17)\n",
      "Serie histórica de la velocidad media de bajada de Internet por provincia y nacional (trimestral)\n",
      "VELOC-PROME-DE-BAJAD-DE\n",
      "Velocidad Media de bajada de Internet por provincia y nacional\n",
      "\n",
      "18)\n",
      "Número de accesos al servicio de Internet fijo por banda ancha y angosta en cada provincia\n",
      "ACCES-A-INTER-FIJO-BANDA\n",
      "Acceso a Internet fijo: banda ancha y banda angosta\n",
      "\n",
      "19)\n",
      "Número de accesos al servicio de Internet fijo por tipo de tecnología en cada provincia\n",
      "ACCES-A-INTER-FIJO-POR\n",
      "Acceso a Internet fijo por tecnología y provincia\n",
      "\n",
      "20)\n",
      "Número de accesos al servicio de Internet fijo por rangos de velocidad de bajada en cada provincia\n",
      "ACCES-A-INTER-FIJO-51042\n",
      "Accesos a Internet fijo por rangos de velocidad bajada  y provincia\n",
      "\n",
      "21)\n",
      "Número de accesos al servicio de Internet fijo por velocidad de bajada en cada provincia\n",
      "ACCES-POR-VELOC-DE-DESCA\n",
      "Accesos a Internet fijo por velocidad bajada  y provincia\n",
      "\n",
      "22)\n",
      "Ingresos trimestrales de los operadores por el servicio de Internet fijo\n",
      "INGRE-POR-LA-OPERA-DEL\n",
      "Ingresos por la operación del servicio de Internet fijo\n",
      "\n",
      "23)\n",
      "Número de altas y bajas mensuales de la portabilidad numérica móvil por operador\n",
      "PORTA-NUMER-MOVIL-POR-OPERA\n",
      "Portabilidad numérica móvil por operador\n",
      "\n",
      "24)\n",
      "Numeración no geográfica asignada\n",
      "NUMER-NO-GEOGR-21454\n",
      "Numeración No Geográfica\n",
      "\n",
      "25)\n",
      "Servicio Universal - Montos destinados, adjudicados y ejecutados por año\n",
      "SERVI-UNIVE-MONTO-DESTI-ADJUD\n",
      "Servicio Universal - Montos destinados, adjudicados y ejecutados\n",
      "\n",
      "26)\n",
      "Listado de empresas habilitadas para homologacion de equipos\n",
      "HOMOL-LISTA-DE-EMPRE\n",
      "Homologaciones Listado de Empresas\n",
      "\n",
      "27)\n",
      "Listado de prestadores con licencias TIC activas\n",
      "LISTA-DE-LICEN-TIC-OTORG\n",
      "Listado de licencias TIC otorgadas\n",
      "\n",
      "28)\n",
      "Listado de equipos homologados\n",
      "EQUIP-HOMOL\n",
      "Equipos Homologados\n",
      "\n",
      "29)\n",
      "Numeracion geográfica asignada por operador, servicio, modalidad y localidad\n",
      "NUMER-GEOGR-45729\n",
      "Numeración Geográfica\n",
      "\n",
      "30)\n",
      "Listado de licencias y autorizaciones audiovisuales\n",
      "LISTA-LICEN-Y-AUTOR-AUDIO\n",
      "Listado licencias y autorizaciones audiovisuales\n",
      "\n",
      "31)\n",
      "Listado de Señales Distintivas especiales\n",
      "SENAL-DISTI-ESPEC\n",
      "Señales Distintivas Especiales\n",
      "\n",
      "32)\n",
      "Listado de Estaciones repetidoras autorizadas\n",
      "ESTAC-REPET-AUTOR\n",
      "Estaciones Repetidoras Autorizadas\n",
      "\n",
      "33)\n",
      "Listado de licencias audiovisuales otorgadas\n",
      "LISTA-LICEN-AUDIO\n",
      "Listado licencias audiovisuales\n",
      "\n",
      "34)\n",
      "Radiobases reportadas por los operadores en cumplimiento de la Resolución CNC 1494 de 2015\n",
      "DESPL-DE-RADIO-4G\n",
      "Despliegue de radiobases 4G\n",
      "\n",
      "35)\n",
      "Mapa para licencias TIC actualizado al 20211126\n",
      "MAPA-PARA-LICEN-TIC\n",
      "Mapa para licencias TIC\n",
      "\n",
      "36)\n",
      "Es la numeración asociada a una zona geográfica en particular.Tiene la siguiente estructura: Indicativo Interurbano + Numero de Abonado\n",
      "NUMER-GEOGR\n",
      "Numeración geográfica\n",
      "\n",
      "37)\n",
      "Es aquella numeración que no tiene asociación alguna con una zona geográfica, su destino puede estar en cualquier parte del país\n",
      "NUMER-NO-GEOGR\n",
      "Numeración no geográfica\n",
      "\n",
      "38)\n",
      "Prestadores de servicios postales\n",
      "REGIS-DE-PREST-DE-SERVI\n",
      "Registro de prestadores de servicios postales\n",
      "\n",
      "39)\n",
      "Prestadores de servicios de mensajería\n",
      "SUBRE-DE-PREST-DE-SERVI\n",
      "Subregistro de prestadores de servicios de mensajería\n",
      "\n",
      "40)\n",
      "Mapa que incluye todas las tecnologias presentes en cada localiadd\n",
      "MAPA-DE-CONEC\n",
      "Mapa de Conectividad\n",
      "\n",
      "41)\n",
      "Listado de prestadores postales autorizados a dar servicios postales en la Republica Argentina\n",
      "REGIS-DE-PROVE-POSTA\n",
      "Registro de Proveedores Postales\n",
      "\n",
      "42)\n",
      "Reclamos de los usuarios de servicios postales\n",
      "RECLA-DE-USUAR-SERVI-POSTA\n",
      "Reclamos de usuarios servicios postales\n",
      "\n",
      "43)\n",
      "Lista de sanciones por concepto de prestación ilegal de servicios postales.\n",
      "SANCI-A-PREST-POSTA-ILEGA\n",
      "Sanciones a prestadores postales ilegales\n",
      "\n",
      "44)\n",
      "Vehículos utilitarios destinados a la tarea de carga y descarga postal con certificado de libre tránsito y estacionamiento emitido por ENACOM.\n",
      "VEHIC-Y-MOTOS-CON-CERTI\n",
      "Vehículos y motos con certificado de libre tránsito y estacionamiento\n",
      "\n",
      "45)\n",
      "Servicios postales: venta de servicios, unidades y personal ocupado\n",
      "SERVI-POSTA\n",
      "Servicios postales\n",
      "\n",
      "46)\n",
      "Inflación, divisas y producto interno bruto\n",
      "INDIC-MACRO\n",
      "Indicadores macroeconómicos\n",
      "\n",
      "47)\n",
      "Listado de prestadores postales autorizados a dar servicios postales en la Republica Argentina\n",
      "REGIS-DE-PROVE-POSTA-97353\n",
      "Registro de Proveedores Postales\n",
      "\n",
      "48)\n",
      "Listado de prestadores de telefonía - ENACOM\n",
      "LISTA-DE-PREST-DE-TELEF\n",
      "Listado de prestadores de telefonía\n",
      "\n"
     ]
    }
   ],
   "source": [
    "response = requests.get(url)\n",
    "\n",
    "a = 1\n",
    "for i in response.json():\n",
    "    print(f\"{a})\")\n",
    "    print(i['description'])\n",
    "    print(i['guid'])\n",
    "    print(i['title'])\n",
    "    print('')\n",
    "    a+=1"
   ]
  },
  {
   "cell_type": "markdown",
   "id": "268d96b6",
   "metadata": {},
   "source": [
    "<font size=\"4\">Por lo que puedes observar son muchos datos los que se encuentran allí, en este caso solo nos quedaremos con los datos más importantes para nuestro análisis </font>"
   ]
  },
  {
   "cell_type": "code",
   "execution_count": 6,
   "id": "9c3eb38f",
   "metadata": {},
   "outputs": [],
   "source": [
    "lista =  11,  13,  15,  16,  17,  18,  19,  20,  21,  22,  40"
   ]
  },
  {
   "cell_type": "code",
   "execution_count": 7,
   "id": "23d7acf8",
   "metadata": {
    "scrolled": true
   },
   "outputs": [
    {
     "name": "stdout",
     "output_type": "stream",
     "text": [
      "11)\n",
      "Mapa geolocalizado de las distintas tecnologías disponibles para el acceso a Internet fijo y móvil\n",
      "CONEC-AL-SERVI-DE-INTER\n",
      "Conectividad al servicio de Internet\n",
      "\n",
      "13)\n",
      "Penetración del servicio de Internet fijo por métrica de población y métrica de hogares\n",
      "PENET-DEL-SERVI-DE-INTER\n",
      "Penetración del servicio de Internet fijo\n",
      "\n",
      "15)\n",
      "Número de accesos al servicio de Internet fijo por tecnología  en cada localidad declarada Categoría\n",
      "ACCES-A-INTER-FIJO-46973\n",
      "Accesos a Internet fijo por tecnología y localidad\n",
      "\n",
      "16)\n",
      "Número de accesos al servicio de Internet fijo por velocidad de bajada en cada localidad declarada\n",
      "ACCES-A-INTER-FIJO-86398\n",
      "Accesos a Internet fijo por velocidad de bajada y localidad\n",
      "\n",
      "17)\n",
      "Serie histórica de la velocidad media de bajada de Internet por provincia y nacional (trimestral)\n",
      "VELOC-PROME-DE-BAJAD-DE\n",
      "Velocidad Media de bajada de Internet por provincia y nacional\n",
      "\n",
      "18)\n",
      "Número de accesos al servicio de Internet fijo por banda ancha y angosta en cada provincia\n",
      "ACCES-A-INTER-FIJO-BANDA\n",
      "Acceso a Internet fijo: banda ancha y banda angosta\n",
      "\n",
      "19)\n",
      "Número de accesos al servicio de Internet fijo por tipo de tecnología en cada provincia\n",
      "ACCES-A-INTER-FIJO-POR\n",
      "Acceso a Internet fijo por tecnología y provincia\n",
      "\n",
      "20)\n",
      "Número de accesos al servicio de Internet fijo por rangos de velocidad de bajada en cada provincia\n",
      "ACCES-A-INTER-FIJO-51042\n",
      "Accesos a Internet fijo por rangos de velocidad bajada  y provincia\n",
      "\n",
      "21)\n",
      "Número de accesos al servicio de Internet fijo por velocidad de bajada en cada provincia\n",
      "ACCES-POR-VELOC-DE-DESCA\n",
      "Accesos a Internet fijo por velocidad bajada  y provincia\n",
      "\n",
      "22)\n",
      "Ingresos trimestrales de los operadores por el servicio de Internet fijo\n",
      "INGRE-POR-LA-OPERA-DEL\n",
      "Ingresos por la operación del servicio de Internet fijo\n",
      "\n",
      "40)\n",
      "Mapa que incluye todas las tecnologias presentes en cada localiadd\n",
      "MAPA-DE-CONEC\n",
      "Mapa de Conectividad\n",
      "\n"
     ]
    }
   ],
   "source": [
    "a = 1\n",
    "for i in response.json(): \n",
    "    if a in lista:\n",
    "        print(f\"{a})\")\n",
    "        print(i['description'])\n",
    "        print(i['guid'])\n",
    "        print(i['title'])\n",
    "        print('')\n",
    "    a+=1"
   ]
  },
  {
   "cell_type": "markdown",
   "id": "685554dd",
   "metadata": {},
   "source": [
    "\n",
    "<font size=\"4\">Habiendo definido los datos que queremos extraer llamamos a cada por medio de la API y los cargamos como DataFrames.</font>\n"
   ]
  },
  {
   "cell_type": "code",
   "execution_count": 8,
   "id": "8a3a5a57",
   "metadata": {},
   "outputs": [
    {
     "data": {
      "text/plain": [
       "'http://api.datosabiertos.enacom.gob.ar/api/v2/datastreams/CONEC-AL-SERVI-DE-INTER/data.csv/?auth_key=l5x9hIoqBBUmB9QgiwiYj6YaK2y5GxXQvS8UPmDN'"
      ]
     },
     "execution_count": 8,
     "metadata": {},
     "output_type": "execute_result"
    }
   ],
   "source": [
    "guid = 'CONEC-AL-SERVI-DE-INTER' #11\n",
    "url = f'http://api.datosabiertos.enacom.gob.ar/api/v2/datastreams/{guid}/data.csv/?auth_key={API_KEY}'\n",
    "\n",
    "url"
   ]
  },
  {
   "cell_type": "code",
   "execution_count": 9,
   "id": "666cef33",
   "metadata": {},
   "outputs": [],
   "source": [
    "df_map_tecnologias = pd.read_csv(url)"
   ]
  },
  {
   "cell_type": "code",
   "execution_count": 10,
   "id": "e3989588",
   "metadata": {
    "scrolled": false
   },
   "outputs": [
    {
     "data": {
      "text/html": [
       "<div>\n",
       "<style scoped>\n",
       "    .dataframe tbody tr th:only-of-type {\n",
       "        vertical-align: middle;\n",
       "    }\n",
       "\n",
       "    .dataframe tbody tr th {\n",
       "        vertical-align: top;\n",
       "    }\n",
       "\n",
       "    .dataframe thead th {\n",
       "        text-align: right;\n",
       "    }\n",
       "</style>\n",
       "<table border=\"1\" class=\"dataframe\">\n",
       "  <thead>\n",
       "    <tr style=\"text-align: right;\">\n",
       "      <th></th>\n",
       "      <th>Provincia</th>\n",
       "      <th>Partido</th>\n",
       "      <th>Localidad</th>\n",
       "      <th>Poblacion</th>\n",
       "      <th>ADSL</th>\n",
       "      <th>CABLEMODEM</th>\n",
       "      <th>DIALUP</th>\n",
       "      <th>FIBRAOPTICA</th>\n",
       "      <th>SATELITAL</th>\n",
       "      <th>WIRELESS</th>\n",
       "      <th>TELEFONIAFIJA</th>\n",
       "      <th>3G</th>\n",
       "      <th>4G</th>\n",
       "      <th>link</th>\n",
       "      <th>Latitud</th>\n",
       "      <th>Longitud</th>\n",
       "    </tr>\n",
       "  </thead>\n",
       "  <tbody>\n",
       "    <tr>\n",
       "      <th>0</th>\n",
       "      <td>BUENOS AIRES</td>\n",
       "      <td>Bahía Blanca</td>\n",
       "      <td>Villa Bordeau</td>\n",
       "      <td>0</td>\n",
       "      <td>--</td>\n",
       "      <td>--</td>\n",
       "      <td>--</td>\n",
       "      <td>--</td>\n",
       "      <td>--</td>\n",
       "      <td>--</td>\n",
       "      <td>--</td>\n",
       "      <td>SI</td>\n",
       "      <td>SI</td>\n",
       "      <td>6056020.0</td>\n",
       "      <td>-38,6472605094596</td>\n",
       "      <td>-62,3200223419024</td>\n",
       "    </tr>\n",
       "    <tr>\n",
       "      <th>1</th>\n",
       "      <td>BUENOS AIRES</td>\n",
       "      <td>Bahía Blanca</td>\n",
       "      <td>Villa Espora</td>\n",
       "      <td>0</td>\n",
       "      <td>--</td>\n",
       "      <td>--</td>\n",
       "      <td>--</td>\n",
       "      <td>--</td>\n",
       "      <td>--</td>\n",
       "      <td>--</td>\n",
       "      <td>--</td>\n",
       "      <td>--</td>\n",
       "      <td>--</td>\n",
       "      <td>6056020.0</td>\n",
       "      <td>-38,7765069529222</td>\n",
       "      <td>-62,1851833537179</td>\n",
       "    </tr>\n",
       "    <tr>\n",
       "      <th>2</th>\n",
       "      <td>BUENOS AIRES</td>\n",
       "      <td>Balcarce</td>\n",
       "      <td>Balcarce</td>\n",
       "      <td>38376</td>\n",
       "      <td>SI</td>\n",
       "      <td>SI</td>\n",
       "      <td>SI</td>\n",
       "      <td>SI</td>\n",
       "      <td>--</td>\n",
       "      <td>SI</td>\n",
       "      <td>SI</td>\n",
       "      <td>SI</td>\n",
       "      <td>SI</td>\n",
       "      <td>6063010.0</td>\n",
       "      <td>-37,8482779294345</td>\n",
       "      <td>-58,2551665841248</td>\n",
       "    </tr>\n",
       "    <tr>\n",
       "      <th>3</th>\n",
       "      <td>BUENOS AIRES</td>\n",
       "      <td>Balcarce</td>\n",
       "      <td>Los Pinos</td>\n",
       "      <td>337</td>\n",
       "      <td>--</td>\n",
       "      <td>--</td>\n",
       "      <td>--</td>\n",
       "      <td>--</td>\n",
       "      <td>--</td>\n",
       "      <td>SI</td>\n",
       "      <td>SI</td>\n",
       "      <td>--</td>\n",
       "      <td>--</td>\n",
       "      <td>6063020.0</td>\n",
       "      <td>-37,9412057603</td>\n",
       "      <td>-58,3225920150442</td>\n",
       "    </tr>\n",
       "    <tr>\n",
       "      <th>4</th>\n",
       "      <td>BUENOS AIRES</td>\n",
       "      <td>Balcarce</td>\n",
       "      <td>Napaleofú</td>\n",
       "      <td>374</td>\n",
       "      <td>--</td>\n",
       "      <td>--</td>\n",
       "      <td>--</td>\n",
       "      <td>SI</td>\n",
       "      <td>--</td>\n",
       "      <td>SI</td>\n",
       "      <td>SI</td>\n",
       "      <td>SI</td>\n",
       "      <td>SI</td>\n",
       "      <td>6063030.0</td>\n",
       "      <td>-37,6254980210026</td>\n",
       "      <td>-58,7461862359423</td>\n",
       "    </tr>\n",
       "  </tbody>\n",
       "</table>\n",
       "</div>"
      ],
      "text/plain": [
       "      Provincia       Partido      Localidad  Poblacion ADSL CABLEMODEM  \\\n",
       "0  BUENOS AIRES  Bahía Blanca  Villa Bordeau          0   --         --   \n",
       "1  BUENOS AIRES  Bahía Blanca   Villa Espora          0   --         --   \n",
       "2  BUENOS AIRES      Balcarce       Balcarce      38376   SI         SI   \n",
       "3  BUENOS AIRES      Balcarce      Los Pinos        337   --         --   \n",
       "4  BUENOS AIRES      Balcarce      Napaleofú        374   --         --   \n",
       "\n",
       "  DIALUP FIBRAOPTICA SATELITAL WIRELESS TELEFONIAFIJA  3G  4G       link  \\\n",
       "0     --          --        --       --            --  SI  SI  6056020.0   \n",
       "1     --          --        --       --            --  --  --  6056020.0   \n",
       "2     SI          SI        --       SI            SI  SI  SI  6063010.0   \n",
       "3     --          --        --       SI            SI  --  --  6063020.0   \n",
       "4     --          SI        --       SI            SI  SI  SI  6063030.0   \n",
       "\n",
       "             Latitud           Longitud  \n",
       "0  -38,6472605094596  -62,3200223419024  \n",
       "1  -38,7765069529222  -62,1851833537179  \n",
       "2  -37,8482779294345  -58,2551665841248  \n",
       "3     -37,9412057603  -58,3225920150442  \n",
       "4  -37,6254980210026  -58,7461862359423  "
      ]
     },
     "execution_count": 10,
     "metadata": {},
     "output_type": "execute_result"
    }
   ],
   "source": [
    "df_map_tecnologias.head()"
   ]
  },
  {
   "cell_type": "code",
   "execution_count": 11,
   "id": "cbf31063",
   "metadata": {},
   "outputs": [],
   "source": [
    "guid = 'PENET-DEL-INTER-FIJO-51614'#13\n",
    "url = f'http://api.datosabiertos.enacom.gob.ar/api/v2/datastreams/{guid}/data.csv/?auth_key={API_KEY}'"
   ]
  },
  {
   "cell_type": "code",
   "execution_count": 12,
   "id": "2bb74bef",
   "metadata": {},
   "outputs": [],
   "source": [
    "df_acc_hogares = pd.read_csv(url)"
   ]
  },
  {
   "cell_type": "code",
   "execution_count": 13,
   "id": "980ab5df",
   "metadata": {
    "scrolled": true
   },
   "outputs": [
    {
     "data": {
      "text/html": [
       "<div>\n",
       "<style scoped>\n",
       "    .dataframe tbody tr th:only-of-type {\n",
       "        vertical-align: middle;\n",
       "    }\n",
       "\n",
       "    .dataframe tbody tr th {\n",
       "        vertical-align: top;\n",
       "    }\n",
       "\n",
       "    .dataframe thead th {\n",
       "        text-align: right;\n",
       "    }\n",
       "</style>\n",
       "<table border=\"1\" class=\"dataframe\">\n",
       "  <thead>\n",
       "    <tr style=\"text-align: right;\">\n",
       "      <th></th>\n",
       "      <th>Año</th>\n",
       "      <th>Trimestre</th>\n",
       "      <th>Provincia</th>\n",
       "      <th>Accesos por cada 100 hogares</th>\n",
       "    </tr>\n",
       "  </thead>\n",
       "  <tbody>\n",
       "    <tr>\n",
       "      <th>0</th>\n",
       "      <td>2022</td>\n",
       "      <td>3</td>\n",
       "      <td>Buenos Aires</td>\n",
       "      <td>78,11</td>\n",
       "    </tr>\n",
       "    <tr>\n",
       "      <th>1</th>\n",
       "      <td>2022</td>\n",
       "      <td>3</td>\n",
       "      <td>Capital Federal</td>\n",
       "      <td>122,28</td>\n",
       "    </tr>\n",
       "    <tr>\n",
       "      <th>2</th>\n",
       "      <td>2022</td>\n",
       "      <td>3</td>\n",
       "      <td>Catamarca</td>\n",
       "      <td>65,33</td>\n",
       "    </tr>\n",
       "    <tr>\n",
       "      <th>3</th>\n",
       "      <td>2022</td>\n",
       "      <td>3</td>\n",
       "      <td>Chaco</td>\n",
       "      <td>43,86</td>\n",
       "    </tr>\n",
       "    <tr>\n",
       "      <th>4</th>\n",
       "      <td>2022</td>\n",
       "      <td>3</td>\n",
       "      <td>Chubut</td>\n",
       "      <td>84,38</td>\n",
       "    </tr>\n",
       "  </tbody>\n",
       "</table>\n",
       "</div>"
      ],
      "text/plain": [
       "    Año  Trimestre        Provincia Accesos por cada 100 hogares\n",
       "0  2022          3     Buenos Aires                        78,11\n",
       "1  2022          3  Capital Federal                       122,28\n",
       "2  2022          3        Catamarca                        65,33\n",
       "3  2022          3            Chaco                        43,86\n",
       "4  2022          3           Chubut                        84,38"
      ]
     },
     "execution_count": 13,
     "metadata": {},
     "output_type": "execute_result"
    }
   ],
   "source": [
    "df_acc_hogares .head()"
   ]
  },
  {
   "cell_type": "code",
   "execution_count": 14,
   "id": "096ecd34",
   "metadata": {},
   "outputs": [],
   "source": [
    "guid = 'ACCES-A-INTER-FIJO-46973'#15\n",
    "url = f'http://api.datosabiertos.enacom.gob.ar/api/v2/datastreams/{guid}/data.json/?auth_key={API_KEY}'"
   ]
  },
  {
   "cell_type": "code",
   "execution_count": 15,
   "id": "e5bc2ed0",
   "metadata": {},
   "outputs": [
    {
     "data": {
      "text/plain": [
       "'http://api.datosabiertos.enacom.gob.ar/api/v2/datastreams/ACCES-A-INTER-FIJO-46973/data.json/?auth_key=l5x9hIoqBBUmB9QgiwiYj6YaK2y5GxXQvS8UPmDN'"
      ]
     },
     "execution_count": 15,
     "metadata": {},
     "output_type": "execute_result"
    }
   ],
   "source": [
    "url"
   ]
  },
  {
   "cell_type": "code",
   "execution_count": 16,
   "id": "6fe9632c",
   "metadata": {},
   "outputs": [],
   "source": [
    "guid = 'ACCES-A-INTER-FIJO-16249'#16\n",
    "url = f'http://api.datosabiertos.enacom.gob.ar/api/v2/datastreams/{guid}/data.csv/?auth_key={API_KEY}'"
   ]
  },
  {
   "cell_type": "code",
   "execution_count": 17,
   "id": "3b568e3a",
   "metadata": {
    "scrolled": false
   },
   "outputs": [],
   "source": [
    "df_acc_velocidad_localidad = pd.read_csv(url)"
   ]
  },
  {
   "cell_type": "code",
   "execution_count": 18,
   "id": "14a2ab04",
   "metadata": {
    "scrolled": true
   },
   "outputs": [
    {
     "data": {
      "text/html": [
       "<div>\n",
       "<style scoped>\n",
       "    .dataframe tbody tr th:only-of-type {\n",
       "        vertical-align: middle;\n",
       "    }\n",
       "\n",
       "    .dataframe tbody tr th {\n",
       "        vertical-align: top;\n",
       "    }\n",
       "\n",
       "    .dataframe thead th {\n",
       "        text-align: right;\n",
       "    }\n",
       "</style>\n",
       "<table border=\"1\" class=\"dataframe\">\n",
       "  <thead>\n",
       "    <tr style=\"text-align: right;\">\n",
       "      <th></th>\n",
       "      <th>Provincia</th>\n",
       "      <th>Partido</th>\n",
       "      <th>Localidad</th>\n",
       "      <th>Link Indec</th>\n",
       "      <th>Otros</th>\n",
       "      <th>0,256 mbps</th>\n",
       "      <th>0,375 mbps</th>\n",
       "      <th>0,5 mbps</th>\n",
       "      <th>0,512 mbps</th>\n",
       "      <th>0,625 mbps</th>\n",
       "      <th>...</th>\n",
       "      <th>75 mbps</th>\n",
       "      <th>78 mbps</th>\n",
       "      <th>80 mbps</th>\n",
       "      <th>82 mbps</th>\n",
       "      <th>83 mbps</th>\n",
       "      <th>85 mbps</th>\n",
       "      <th>90 mbps</th>\n",
       "      <th>92 mbps</th>\n",
       "      <th>95 mbps</th>\n",
       "      <th>100 mbps</th>\n",
       "    </tr>\n",
       "  </thead>\n",
       "  <tbody>\n",
       "    <tr>\n",
       "      <th>0</th>\n",
       "      <td>BUENOS AIRES</td>\n",
       "      <td>25 de Mayo</td>\n",
       "      <td>25 de Mayo</td>\n",
       "      <td>6854100</td>\n",
       "      <td>NaN</td>\n",
       "      <td>NaN</td>\n",
       "      <td>NaN</td>\n",
       "      <td>2</td>\n",
       "      <td>NaN</td>\n",
       "      <td>NaN</td>\n",
       "      <td>...</td>\n",
       "      <td>NaN</td>\n",
       "      <td>NaN</td>\n",
       "      <td>9.0</td>\n",
       "      <td>NaN</td>\n",
       "      <td>NaN</td>\n",
       "      <td>NaN</td>\n",
       "      <td>NaN</td>\n",
       "      <td>NaN</td>\n",
       "      <td>NaN</td>\n",
       "      <td>NaN</td>\n",
       "    </tr>\n",
       "    <tr>\n",
       "      <th>1</th>\n",
       "      <td>BUENOS AIRES</td>\n",
       "      <td>25 de Mayo</td>\n",
       "      <td>Agustín Mosconi</td>\n",
       "      <td>6854010</td>\n",
       "      <td>NaN</td>\n",
       "      <td>NaN</td>\n",
       "      <td>NaN</td>\n",
       "      <td>NaN</td>\n",
       "      <td>NaN</td>\n",
       "      <td>NaN</td>\n",
       "      <td>...</td>\n",
       "      <td>NaN</td>\n",
       "      <td>NaN</td>\n",
       "      <td>NaN</td>\n",
       "      <td>NaN</td>\n",
       "      <td>NaN</td>\n",
       "      <td>NaN</td>\n",
       "      <td>NaN</td>\n",
       "      <td>NaN</td>\n",
       "      <td>NaN</td>\n",
       "      <td>NaN</td>\n",
       "    </tr>\n",
       "    <tr>\n",
       "      <th>2</th>\n",
       "      <td>BUENOS AIRES</td>\n",
       "      <td>25 de Mayo</td>\n",
       "      <td>Del Valle</td>\n",
       "      <td>6854020</td>\n",
       "      <td>NaN</td>\n",
       "      <td>NaN</td>\n",
       "      <td>NaN</td>\n",
       "      <td>1</td>\n",
       "      <td>NaN</td>\n",
       "      <td>NaN</td>\n",
       "      <td>...</td>\n",
       "      <td>NaN</td>\n",
       "      <td>NaN</td>\n",
       "      <td>NaN</td>\n",
       "      <td>NaN</td>\n",
       "      <td>NaN</td>\n",
       "      <td>NaN</td>\n",
       "      <td>NaN</td>\n",
       "      <td>NaN</td>\n",
       "      <td>NaN</td>\n",
       "      <td>NaN</td>\n",
       "    </tr>\n",
       "    <tr>\n",
       "      <th>3</th>\n",
       "      <td>BUENOS AIRES</td>\n",
       "      <td>25 de Mayo</td>\n",
       "      <td>Ernestina</td>\n",
       "      <td>6854030</td>\n",
       "      <td>NaN</td>\n",
       "      <td>NaN</td>\n",
       "      <td>NaN</td>\n",
       "      <td>NaN</td>\n",
       "      <td>NaN</td>\n",
       "      <td>NaN</td>\n",
       "      <td>...</td>\n",
       "      <td>NaN</td>\n",
       "      <td>NaN</td>\n",
       "      <td>NaN</td>\n",
       "      <td>NaN</td>\n",
       "      <td>NaN</td>\n",
       "      <td>NaN</td>\n",
       "      <td>NaN</td>\n",
       "      <td>NaN</td>\n",
       "      <td>NaN</td>\n",
       "      <td>NaN</td>\n",
       "    </tr>\n",
       "    <tr>\n",
       "      <th>4</th>\n",
       "      <td>BUENOS AIRES</td>\n",
       "      <td>25 de Mayo</td>\n",
       "      <td>Gobernador Ugarte</td>\n",
       "      <td>6854040</td>\n",
       "      <td>NaN</td>\n",
       "      <td>NaN</td>\n",
       "      <td>NaN</td>\n",
       "      <td>NaN</td>\n",
       "      <td>NaN</td>\n",
       "      <td>NaN</td>\n",
       "      <td>...</td>\n",
       "      <td>NaN</td>\n",
       "      <td>NaN</td>\n",
       "      <td>NaN</td>\n",
       "      <td>NaN</td>\n",
       "      <td>NaN</td>\n",
       "      <td>NaN</td>\n",
       "      <td>NaN</td>\n",
       "      <td>NaN</td>\n",
       "      <td>NaN</td>\n",
       "      <td>NaN</td>\n",
       "    </tr>\n",
       "  </tbody>\n",
       "</table>\n",
       "<p>5 rows × 83 columns</p>\n",
       "</div>"
      ],
      "text/plain": [
       "      Provincia     Partido          Localidad Link Indec Otros  0,256 mbps  \\\n",
       "0  BUENOS AIRES  25 de Mayo         25 de Mayo    6854100   NaN         NaN   \n",
       "1  BUENOS AIRES  25 de Mayo    Agustín Mosconi    6854010   NaN         NaN   \n",
       "2  BUENOS AIRES  25 de Mayo          Del Valle    6854020   NaN         NaN   \n",
       "3  BUENOS AIRES  25 de Mayo          Ernestina    6854030   NaN         NaN   \n",
       "4  BUENOS AIRES  25 de Mayo  Gobernador Ugarte    6854040   NaN         NaN   \n",
       "\n",
       "   0,375 mbps 0,5 mbps  0,512 mbps  0,625 mbps  ... 75 mbps 78 mbps  80 mbps  \\\n",
       "0         NaN        2         NaN         NaN  ...     NaN     NaN      9.0   \n",
       "1         NaN      NaN         NaN         NaN  ...     NaN     NaN      NaN   \n",
       "2         NaN        1         NaN         NaN  ...     NaN     NaN      NaN   \n",
       "3         NaN      NaN         NaN         NaN  ...     NaN     NaN      NaN   \n",
       "4         NaN      NaN         NaN         NaN  ...     NaN     NaN      NaN   \n",
       "\n",
       "  82 mbps 83 mbps  85 mbps  90 mbps 92 mbps  95 mbps 100 mbps  \n",
       "0     NaN     NaN      NaN      NaN     NaN      NaN      NaN  \n",
       "1     NaN     NaN      NaN      NaN     NaN      NaN      NaN  \n",
       "2     NaN     NaN      NaN      NaN     NaN      NaN      NaN  \n",
       "3     NaN     NaN      NaN      NaN     NaN      NaN      NaN  \n",
       "4     NaN     NaN      NaN      NaN     NaN      NaN      NaN  \n",
       "\n",
       "[5 rows x 83 columns]"
      ]
     },
     "execution_count": 18,
     "metadata": {},
     "output_type": "execute_result"
    }
   ],
   "source": [
    "df_acc_velocidad_localidad.head()"
   ]
  },
  {
   "cell_type": "code",
   "execution_count": 19,
   "id": "12f6ed60",
   "metadata": {},
   "outputs": [],
   "source": [
    "guid = 'VELOC-PROME-DE-BAJAD-51733'#17\n",
    "url = f'http://api.datosabiertos.enacom.gob.ar/api/v2/datastreams/{guid}/data.csv/?auth_key={API_KEY}'"
   ]
  },
  {
   "cell_type": "code",
   "execution_count": 20,
   "id": "64a20f70",
   "metadata": {
    "scrolled": false
   },
   "outputs": [],
   "source": [
    "df_speed_media_pais = pd.read_csv(url)"
   ]
  },
  {
   "cell_type": "code",
   "execution_count": 21,
   "id": "aecd8935",
   "metadata": {
    "scrolled": true
   },
   "outputs": [
    {
     "data": {
      "text/html": [
       "<div>\n",
       "<style scoped>\n",
       "    .dataframe tbody tr th:only-of-type {\n",
       "        vertical-align: middle;\n",
       "    }\n",
       "\n",
       "    .dataframe tbody tr th {\n",
       "        vertical-align: top;\n",
       "    }\n",
       "\n",
       "    .dataframe thead th {\n",
       "        text-align: right;\n",
       "    }\n",
       "</style>\n",
       "<table border=\"1\" class=\"dataframe\">\n",
       "  <thead>\n",
       "    <tr style=\"text-align: right;\">\n",
       "      <th></th>\n",
       "      <th>Año</th>\n",
       "      <th>Trimestre</th>\n",
       "      <th>Mbps (Media de bajada)</th>\n",
       "      <th>Trimestre.1</th>\n",
       "    </tr>\n",
       "  </thead>\n",
       "  <tbody>\n",
       "    <tr>\n",
       "      <th>0</th>\n",
       "      <td>2022</td>\n",
       "      <td>3</td>\n",
       "      <td>62,46</td>\n",
       "      <td>Jul-Sept 2022</td>\n",
       "    </tr>\n",
       "    <tr>\n",
       "      <th>1</th>\n",
       "      <td>2022</td>\n",
       "      <td>2</td>\n",
       "      <td>58,44</td>\n",
       "      <td>Abr-Jun 2022</td>\n",
       "    </tr>\n",
       "    <tr>\n",
       "      <th>2</th>\n",
       "      <td>2022</td>\n",
       "      <td>1</td>\n",
       "      <td>55,11</td>\n",
       "      <td>Ene-Mar 2022</td>\n",
       "    </tr>\n",
       "    <tr>\n",
       "      <th>3</th>\n",
       "      <td>2021</td>\n",
       "      <td>4</td>\n",
       "      <td>52,34</td>\n",
       "      <td>Oct-Dic 2021</td>\n",
       "    </tr>\n",
       "    <tr>\n",
       "      <th>4</th>\n",
       "      <td>2021</td>\n",
       "      <td>3</td>\n",
       "      <td>48,46</td>\n",
       "      <td>Jul-Sept 2021</td>\n",
       "    </tr>\n",
       "  </tbody>\n",
       "</table>\n",
       "</div>"
      ],
      "text/plain": [
       "    Año  Trimestre Mbps (Media de bajada)    Trimestre.1\n",
       "0  2022          3                  62,46  Jul-Sept 2022\n",
       "1  2022          2                  58,44   Abr-Jun 2022\n",
       "2  2022          1                  55,11   Ene-Mar 2022\n",
       "3  2021          4                  52,34   Oct-Dic 2021\n",
       "4  2021          3                  48,46  Jul-Sept 2021"
      ]
     },
     "execution_count": 21,
     "metadata": {},
     "output_type": "execute_result"
    }
   ],
   "source": [
    "df_speed_media_pais.head()"
   ]
  },
  {
   "cell_type": "code",
   "execution_count": 22,
   "id": "0d1568df",
   "metadata": {},
   "outputs": [],
   "source": [
    "guid = 'BANDA-ANCHA-Y-BANDA-ANGOS'#18\n",
    "url = f'http://api.datosabiertos.enacom.gob.ar/api/v2/datastreams/{guid}/data.csv/?auth_key={API_KEY}'"
   ]
  },
  {
   "cell_type": "code",
   "execution_count": 23,
   "id": "c636ee53",
   "metadata": {
    "scrolled": false
   },
   "outputs": [],
   "source": [
    "df_banda = pd.read_csv(url)"
   ]
  },
  {
   "cell_type": "code",
   "execution_count": 24,
   "id": "24345de6",
   "metadata": {},
   "outputs": [
    {
     "data": {
      "text/html": [
       "<div>\n",
       "<style scoped>\n",
       "    .dataframe tbody tr th:only-of-type {\n",
       "        vertical-align: middle;\n",
       "    }\n",
       "\n",
       "    .dataframe tbody tr th {\n",
       "        vertical-align: top;\n",
       "    }\n",
       "\n",
       "    .dataframe thead th {\n",
       "        text-align: right;\n",
       "    }\n",
       "</style>\n",
       "<table border=\"1\" class=\"dataframe\">\n",
       "  <thead>\n",
       "    <tr style=\"text-align: right;\">\n",
       "      <th></th>\n",
       "      <th>Año</th>\n",
       "      <th>Trimestre</th>\n",
       "      <th>Provincia</th>\n",
       "      <th>Banda ancha fija</th>\n",
       "      <th>Dial up</th>\n",
       "      <th>Total</th>\n",
       "    </tr>\n",
       "  </thead>\n",
       "  <tbody>\n",
       "    <tr>\n",
       "      <th>0</th>\n",
       "      <td>2022</td>\n",
       "      <td>3</td>\n",
       "      <td>Buenos Aires</td>\n",
       "      <td>4.715.469</td>\n",
       "      <td>6.199</td>\n",
       "      <td>4.721.668</td>\n",
       "    </tr>\n",
       "    <tr>\n",
       "      <th>1</th>\n",
       "      <td>2022</td>\n",
       "      <td>3</td>\n",
       "      <td>Capital Federal</td>\n",
       "      <td>1.545.534</td>\n",
       "      <td>2.145</td>\n",
       "      <td>1.547.679</td>\n",
       "    </tr>\n",
       "    <tr>\n",
       "      <th>2</th>\n",
       "      <td>2022</td>\n",
       "      <td>3</td>\n",
       "      <td>Catamarca</td>\n",
       "      <td>70.292</td>\n",
       "      <td>1</td>\n",
       "      <td>70.293</td>\n",
       "    </tr>\n",
       "    <tr>\n",
       "      <th>3</th>\n",
       "      <td>2022</td>\n",
       "      <td>3</td>\n",
       "      <td>Chaco</td>\n",
       "      <td>144.141</td>\n",
       "      <td>5</td>\n",
       "      <td>144.146</td>\n",
       "    </tr>\n",
       "    <tr>\n",
       "      <th>4</th>\n",
       "      <td>2022</td>\n",
       "      <td>3</td>\n",
       "      <td>Chubut</td>\n",
       "      <td>164.874</td>\n",
       "      <td>904</td>\n",
       "      <td>165.778</td>\n",
       "    </tr>\n",
       "  </tbody>\n",
       "</table>\n",
       "</div>"
      ],
      "text/plain": [
       "    Año  Trimestre        Provincia Banda ancha fija Dial up      Total\n",
       "0  2022          3     Buenos Aires        4.715.469   6.199  4.721.668\n",
       "1  2022          3  Capital Federal        1.545.534   2.145  1.547.679\n",
       "2  2022          3        Catamarca           70.292       1     70.293\n",
       "3  2022          3            Chaco          144.141       5    144.146\n",
       "4  2022          3           Chubut          164.874     904    165.778"
      ]
     },
     "execution_count": 24,
     "metadata": {},
     "output_type": "execute_result"
    }
   ],
   "source": [
    "df_banda.head()"
   ]
  },
  {
   "cell_type": "code",
   "execution_count": 25,
   "id": "caae55e3",
   "metadata": {},
   "outputs": [],
   "source": [
    "guid = 'TOTAL-NACIO-DE-ACCES-A'#19\n",
    "url = f'http://api.datosabiertos.enacom.gob.ar/api/v2/datastreams/{guid}/data.csv/?auth_key={API_KEY}'"
   ]
  },
  {
   "cell_type": "code",
   "execution_count": 26,
   "id": "d6ad8954",
   "metadata": {
    "scrolled": true
   },
   "outputs": [],
   "source": [
    "df_acc_tecnologia = pd.read_csv(url, dtype={'Wireless': str, 'Otros': str})"
   ]
  },
  {
   "cell_type": "code",
   "execution_count": 27,
   "id": "6bb64cb2",
   "metadata": {
    "scrolled": true
   },
   "outputs": [
    {
     "data": {
      "text/html": [
       "<div>\n",
       "<style scoped>\n",
       "    .dataframe tbody tr th:only-of-type {\n",
       "        vertical-align: middle;\n",
       "    }\n",
       "\n",
       "    .dataframe tbody tr th {\n",
       "        vertical-align: top;\n",
       "    }\n",
       "\n",
       "    .dataframe thead th {\n",
       "        text-align: right;\n",
       "    }\n",
       "</style>\n",
       "<table border=\"1\" class=\"dataframe\">\n",
       "  <thead>\n",
       "    <tr style=\"text-align: right;\">\n",
       "      <th></th>\n",
       "      <th>Año</th>\n",
       "      <th>Trimestre</th>\n",
       "      <th>ADSL</th>\n",
       "      <th>Cablemodem</th>\n",
       "      <th>Fibra óptica</th>\n",
       "      <th>Wireless</th>\n",
       "      <th>Otros</th>\n",
       "      <th>Total</th>\n",
       "      <th>Periodo</th>\n",
       "    </tr>\n",
       "  </thead>\n",
       "  <tbody>\n",
       "    <tr>\n",
       "      <th>0</th>\n",
       "      <td>2022</td>\n",
       "      <td>3</td>\n",
       "      <td>1.395.277</td>\n",
       "      <td>6.031.970</td>\n",
       "      <td>2.871.541</td>\n",
       "      <td>557.110</td>\n",
       "      <td>235.230</td>\n",
       "      <td>11.091.128</td>\n",
       "      <td>Jul-Sept 2022</td>\n",
       "    </tr>\n",
       "    <tr>\n",
       "      <th>1</th>\n",
       "      <td>2022</td>\n",
       "      <td>2</td>\n",
       "      <td>1.468.333</td>\n",
       "      <td>5.979.214</td>\n",
       "      <td>2.723.285</td>\n",
       "      <td>556.243</td>\n",
       "      <td>231.609</td>\n",
       "      <td>10.958.684</td>\n",
       "      <td>Abr-Jun 2022</td>\n",
       "    </tr>\n",
       "    <tr>\n",
       "      <th>2</th>\n",
       "      <td>2022</td>\n",
       "      <td>1</td>\n",
       "      <td>1.533.240</td>\n",
       "      <td>6.073.426</td>\n",
       "      <td>2.219.533</td>\n",
       "      <td>545.814</td>\n",
       "      <td>251.996</td>\n",
       "      <td>10.624.009</td>\n",
       "      <td>Ene-Mar 2022</td>\n",
       "    </tr>\n",
       "    <tr>\n",
       "      <th>3</th>\n",
       "      <td>2021</td>\n",
       "      <td>4</td>\n",
       "      <td>1.657.615</td>\n",
       "      <td>5.984.240</td>\n",
       "      <td>2.072.236</td>\n",
       "      <td>523.107</td>\n",
       "      <td>252.596</td>\n",
       "      <td>10.489.794</td>\n",
       "      <td>Oct-Dic 2021</td>\n",
       "    </tr>\n",
       "    <tr>\n",
       "      <th>4</th>\n",
       "      <td>2021</td>\n",
       "      <td>3</td>\n",
       "      <td>1.950.631</td>\n",
       "      <td>5.826.257</td>\n",
       "      <td>1.566.048</td>\n",
       "      <td>492.415</td>\n",
       "      <td>250.190</td>\n",
       "      <td>10.085.541</td>\n",
       "      <td>Jul-Sept 2021</td>\n",
       "    </tr>\n",
       "  </tbody>\n",
       "</table>\n",
       "</div>"
      ],
      "text/plain": [
       "    Año  Trimestre       ADSL Cablemodem Fibra óptica Wireless    Otros  \\\n",
       "0  2022          3  1.395.277  6.031.970    2.871.541  557.110  235.230   \n",
       "1  2022          2  1.468.333  5.979.214    2.723.285  556.243  231.609   \n",
       "2  2022          1  1.533.240  6.073.426    2.219.533  545.814  251.996   \n",
       "3  2021          4  1.657.615  5.984.240    2.072.236  523.107  252.596   \n",
       "4  2021          3  1.950.631  5.826.257    1.566.048  492.415  250.190   \n",
       "\n",
       "        Total        Periodo  \n",
       "0  11.091.128  Jul-Sept 2022  \n",
       "1  10.958.684   Abr-Jun 2022  \n",
       "2  10.624.009   Ene-Mar 2022  \n",
       "3  10.489.794   Oct-Dic 2021  \n",
       "4  10.085.541  Jul-Sept 2021  "
      ]
     },
     "execution_count": 27,
     "metadata": {},
     "output_type": "execute_result"
    }
   ],
   "source": [
    "df_acc_tecnologia.head()"
   ]
  },
  {
   "cell_type": "code",
   "execution_count": 28,
   "id": "ab269947",
   "metadata": {},
   "outputs": [],
   "source": [
    "guid = 'ACCES-A-INTER-FIJO-23248'#20\n",
    "url = f'http://api.datosabiertos.enacom.gob.ar/api/v2/datastreams/{guid}/data.csv/?auth_key={API_KEY}'"
   ]
  },
  {
   "cell_type": "code",
   "execution_count": 29,
   "id": "ecb86ac1",
   "metadata": {
    "scrolled": true
   },
   "outputs": [],
   "source": [
    "df_rangos_velocidad_provincia = pd.read_csv(url, dtype={'HASTA 512 kbps': str,\n",
    "                                                         '+ 512 Kbps - 1 Mbps': str,\n",
    "                                                         '+ 1 Mbps - 6 Mbps': str,\n",
    "                                                         '+ 6 Mbps - 10 Mbps': str,\n",
    "                                                         '+ 10 Mbps - 20 Mbps': str,\n",
    "                                                         '+ 20 Mbps - 30 Mbps': str,\n",
    "                                                         '+ 30 Mbps': str,\n",
    "                                                         'OTROS': str})"
   ]
  },
  {
   "cell_type": "code",
   "execution_count": 30,
   "id": "cd2ea013",
   "metadata": {},
   "outputs": [
    {
     "data": {
      "text/html": [
       "<div>\n",
       "<style scoped>\n",
       "    .dataframe tbody tr th:only-of-type {\n",
       "        vertical-align: middle;\n",
       "    }\n",
       "\n",
       "    .dataframe tbody tr th {\n",
       "        vertical-align: top;\n",
       "    }\n",
       "\n",
       "    .dataframe thead th {\n",
       "        text-align: right;\n",
       "    }\n",
       "</style>\n",
       "<table border=\"1\" class=\"dataframe\">\n",
       "  <thead>\n",
       "    <tr style=\"text-align: right;\">\n",
       "      <th></th>\n",
       "      <th>Año</th>\n",
       "      <th>Trimestre</th>\n",
       "      <th>Provincia</th>\n",
       "      <th>HASTA 512 kbps</th>\n",
       "      <th>+ 512 Kbps - 1 Mbps</th>\n",
       "      <th>+ 1 Mbps - 6 Mbps</th>\n",
       "      <th>+ 6 Mbps - 10 Mbps</th>\n",
       "      <th>+ 10 Mbps - 20 Mbps</th>\n",
       "      <th>+ 20 Mbps - 30 Mbps</th>\n",
       "      <th>+ 30 Mbps</th>\n",
       "      <th>OTROS</th>\n",
       "      <th>Total</th>\n",
       "    </tr>\n",
       "  </thead>\n",
       "  <tbody>\n",
       "    <tr>\n",
       "      <th>0</th>\n",
       "      <td>2022</td>\n",
       "      <td>3</td>\n",
       "      <td>Buenos Aires</td>\n",
       "      <td>29.985</td>\n",
       "      <td>27.709</td>\n",
       "      <td>290.315</td>\n",
       "      <td>297.915</td>\n",
       "      <td>267.044</td>\n",
       "      <td>124.190</td>\n",
       "      <td>3.618.689</td>\n",
       "      <td>65.821</td>\n",
       "      <td>4.721.668</td>\n",
       "    </tr>\n",
       "    <tr>\n",
       "      <th>1</th>\n",
       "      <td>2022</td>\n",
       "      <td>3</td>\n",
       "      <td>Capital Federal</td>\n",
       "      <td>517</td>\n",
       "      <td>5.742</td>\n",
       "      <td>34.371</td>\n",
       "      <td>67.829</td>\n",
       "      <td>51.946</td>\n",
       "      <td>28.692</td>\n",
       "      <td>1.253.105</td>\n",
       "      <td>105.477</td>\n",
       "      <td>1.547.679</td>\n",
       "    </tr>\n",
       "    <tr>\n",
       "      <th>2</th>\n",
       "      <td>2022</td>\n",
       "      <td>3</td>\n",
       "      <td>Catamarca</td>\n",
       "      <td>71</td>\n",
       "      <td>384</td>\n",
       "      <td>3.107</td>\n",
       "      <td>5.389</td>\n",
       "      <td>5.099</td>\n",
       "      <td>3.737</td>\n",
       "      <td>50.298</td>\n",
       "      <td>2.208</td>\n",
       "      <td>70.293</td>\n",
       "    </tr>\n",
       "    <tr>\n",
       "      <th>3</th>\n",
       "      <td>2022</td>\n",
       "      <td>3</td>\n",
       "      <td>Chaco</td>\n",
       "      <td>461</td>\n",
       "      <td>987</td>\n",
       "      <td>16.782</td>\n",
       "      <td>18.938</td>\n",
       "      <td>8.049</td>\n",
       "      <td>15.828</td>\n",
       "      <td>79.390</td>\n",
       "      <td>3.711</td>\n",
       "      <td>144.146</td>\n",
       "    </tr>\n",
       "    <tr>\n",
       "      <th>4</th>\n",
       "      <td>2022</td>\n",
       "      <td>3</td>\n",
       "      <td>Chubut</td>\n",
       "      <td>109</td>\n",
       "      <td>1.444</td>\n",
       "      <td>45.707</td>\n",
       "      <td>30.940</td>\n",
       "      <td>34.682</td>\n",
       "      <td>15.309</td>\n",
       "      <td>17.563</td>\n",
       "      <td>20.024</td>\n",
       "      <td>165.778</td>\n",
       "    </tr>\n",
       "  </tbody>\n",
       "</table>\n",
       "</div>"
      ],
      "text/plain": [
       "    Año  Trimestre        Provincia HASTA 512 kbps + 512 Kbps - 1 Mbps  \\\n",
       "0  2022          3     Buenos Aires         29.985              27.709   \n",
       "1  2022          3  Capital Federal            517               5.742   \n",
       "2  2022          3        Catamarca             71                 384   \n",
       "3  2022          3            Chaco            461                 987   \n",
       "4  2022          3           Chubut            109               1.444   \n",
       "\n",
       "  + 1 Mbps - 6 Mbps + 6 Mbps - 10 Mbps + 10 Mbps - 20 Mbps  \\\n",
       "0           290.315            297.915             267.044   \n",
       "1            34.371             67.829              51.946   \n",
       "2             3.107              5.389               5.099   \n",
       "3            16.782             18.938               8.049   \n",
       "4            45.707             30.940              34.682   \n",
       "\n",
       "  + 20 Mbps - 30 Mbps  + 30 Mbps    OTROS      Total  \n",
       "0             124.190  3.618.689   65.821  4.721.668  \n",
       "1              28.692  1.253.105  105.477  1.547.679  \n",
       "2               3.737     50.298    2.208     70.293  \n",
       "3              15.828     79.390    3.711    144.146  \n",
       "4              15.309     17.563   20.024    165.778  "
      ]
     },
     "execution_count": 30,
     "metadata": {},
     "output_type": "execute_result"
    }
   ],
   "source": [
    "df_rangos_velocidad_provincia.head()"
   ]
  },
  {
   "cell_type": "code",
   "execution_count": 31,
   "id": "47ad7583",
   "metadata": {},
   "outputs": [],
   "source": [
    "guid = 'ACCES-A-INTER-FIJO-97624'#21\n",
    "url = f'http://api.datosabiertos.enacom.gob.ar/api/v2/datastreams/{guid}/data.csv/?auth_key={API_KEY}'"
   ]
  },
  {
   "cell_type": "code",
   "execution_count": 32,
   "id": "2ab02830",
   "metadata": {
    "scrolled": true
   },
   "outputs": [],
   "source": [
    "df_acc_velocidad_prov = url"
   ]
  },
  {
   "cell_type": "code",
   "execution_count": 33,
   "id": "7c8bd2cf",
   "metadata": {},
   "outputs": [],
   "source": [
    "guid = 'INGRE-POR-LA-OPERA-DEL'#22\n",
    "url = f'http://api.datosabiertos.enacom.gob.ar/api/v2/datastreams/{guid}/data.csv/?auth_key={API_KEY}'"
   ]
  },
  {
   "cell_type": "code",
   "execution_count": 34,
   "id": "5477dc5e",
   "metadata": {
    "scrolled": true
   },
   "outputs": [],
   "source": [
    "df_ingreso_operadores = pd.read_csv(url)"
   ]
  },
  {
   "cell_type": "code",
   "execution_count": 35,
   "id": "d136f676",
   "metadata": {
    "scrolled": true
   },
   "outputs": [
    {
     "data": {
      "text/html": [
       "<div>\n",
       "<style scoped>\n",
       "    .dataframe tbody tr th:only-of-type {\n",
       "        vertical-align: middle;\n",
       "    }\n",
       "\n",
       "    .dataframe tbody tr th {\n",
       "        vertical-align: top;\n",
       "    }\n",
       "\n",
       "    .dataframe thead th {\n",
       "        text-align: right;\n",
       "    }\n",
       "</style>\n",
       "<table border=\"1\" class=\"dataframe\">\n",
       "  <thead>\n",
       "    <tr style=\"text-align: right;\">\n",
       "      <th></th>\n",
       "      <th>Año</th>\n",
       "      <th>Trimestre</th>\n",
       "      <th>Ingresos (miles de pesos)</th>\n",
       "      <th>Periodo</th>\n",
       "    </tr>\n",
       "  </thead>\n",
       "  <tbody>\n",
       "    <tr>\n",
       "      <th>0</th>\n",
       "      <td>2022</td>\n",
       "      <td>3</td>\n",
       "      <td>67.055.930</td>\n",
       "      <td>Jul-Sept 2022</td>\n",
       "    </tr>\n",
       "    <tr>\n",
       "      <th>1</th>\n",
       "      <td>2022</td>\n",
       "      <td>2</td>\n",
       "      <td>60.335.724</td>\n",
       "      <td>Abr-Jun 2022</td>\n",
       "    </tr>\n",
       "    <tr>\n",
       "      <th>2</th>\n",
       "      <td>2022</td>\n",
       "      <td>1</td>\n",
       "      <td>55.589.997</td>\n",
       "      <td>Ene-Mar 2022</td>\n",
       "    </tr>\n",
       "    <tr>\n",
       "      <th>3</th>\n",
       "      <td>2021</td>\n",
       "      <td>4</td>\n",
       "      <td>45.467.887</td>\n",
       "      <td>Oct-Dic 2021</td>\n",
       "    </tr>\n",
       "    <tr>\n",
       "      <th>4</th>\n",
       "      <td>2021</td>\n",
       "      <td>3</td>\n",
       "      <td>42.999.944</td>\n",
       "      <td>Jul-Sept 2021</td>\n",
       "    </tr>\n",
       "  </tbody>\n",
       "</table>\n",
       "</div>"
      ],
      "text/plain": [
       "    Año  Trimestre Ingresos (miles de pesos)        Periodo\n",
       "0  2022          3                67.055.930  Jul-Sept 2022\n",
       "1  2022          2                60.335.724   Abr-Jun 2022\n",
       "2  2022          1                55.589.997   Ene-Mar 2022\n",
       "3  2021          4                45.467.887   Oct-Dic 2021\n",
       "4  2021          3                42.999.944  Jul-Sept 2021"
      ]
     },
     "execution_count": 35,
     "metadata": {},
     "output_type": "execute_result"
    }
   ],
   "source": [
    "df_ingreso_operadores.head()"
   ]
  },
  {
   "cell_type": "markdown",
   "id": "558208e6",
   "metadata": {},
   "source": [
    "<font size=\"4\">Debido a la gran cantidad de datos obtenidos es necesario quedarnos solo con aquellos DataFrames que desde mi punto de vista incluyen la información más relevante para la realización del EDA. </font>"
   ]
  },
  {
   "cell_type": "code",
   "execution_count": 36,
   "id": "c6f2effb",
   "metadata": {},
   "outputs": [],
   "source": [
    "# 7   Conectividad al servicio: Mapa geolocalizado de las distintas tecnologías disponibles para el acceso a Internet fijo y móvil\n",
    "\n",
    "# 13  Penetración del servicio de Internet fijo por métrica de hogares (por Provincia)\n",
    "\n",
    "# 17  Serie histórica de la velocidad media de bajada de Internet por provincia y nacional (trimestral)\n",
    "\n",
    "# 18  Acceso a Internet fijo: banda ancha y banda angosta (por Provincia)\n",
    "\n",
    "# 19  Número de accesos al servicio de Internet fijo por tipo de tecnología en cada provincia\n",
    "\n",
    "# 20  Accesos a Internet fijo por rangos de velocidad bajada  y provincia\n",
    "\n",
    "# 22  Ingresos trimestrales de los operadores por el servicio de Internet fijo"
   ]
  },
  {
   "cell_type": "code",
   "execution_count": 37,
   "id": "437bab3e",
   "metadata": {},
   "outputs": [],
   "source": [
    "df_acc_hogares['Accesos por cada 100 hogares'] = df_acc_hogares['Accesos por cada 100 hogares'].str.replace(',', '.').astype(float)"
   ]
  },
  {
   "cell_type": "code",
   "execution_count": 38,
   "id": "7c141323",
   "metadata": {},
   "outputs": [
    {
     "data": {
      "text/html": [
       "<div>\n",
       "<style scoped>\n",
       "    .dataframe tbody tr th:only-of-type {\n",
       "        vertical-align: middle;\n",
       "    }\n",
       "\n",
       "    .dataframe tbody tr th {\n",
       "        vertical-align: top;\n",
       "    }\n",
       "\n",
       "    .dataframe thead th {\n",
       "        text-align: right;\n",
       "    }\n",
       "</style>\n",
       "<table border=\"1\" class=\"dataframe\">\n",
       "  <thead>\n",
       "    <tr style=\"text-align: right;\">\n",
       "      <th></th>\n",
       "      <th>Año</th>\n",
       "      <th>Trimestre</th>\n",
       "      <th>Provincia</th>\n",
       "      <th>Accesos por cada 100 hogares</th>\n",
       "    </tr>\n",
       "  </thead>\n",
       "  <tbody>\n",
       "    <tr>\n",
       "      <th>0</th>\n",
       "      <td>2022</td>\n",
       "      <td>3</td>\n",
       "      <td>Buenos Aires</td>\n",
       "      <td>78.11</td>\n",
       "    </tr>\n",
       "    <tr>\n",
       "      <th>1</th>\n",
       "      <td>2022</td>\n",
       "      <td>3</td>\n",
       "      <td>Capital Federal</td>\n",
       "      <td>122.28</td>\n",
       "    </tr>\n",
       "    <tr>\n",
       "      <th>2</th>\n",
       "      <td>2022</td>\n",
       "      <td>3</td>\n",
       "      <td>Catamarca</td>\n",
       "      <td>65.33</td>\n",
       "    </tr>\n",
       "    <tr>\n",
       "      <th>3</th>\n",
       "      <td>2022</td>\n",
       "      <td>3</td>\n",
       "      <td>Chaco</td>\n",
       "      <td>43.86</td>\n",
       "    </tr>\n",
       "    <tr>\n",
       "      <th>4</th>\n",
       "      <td>2022</td>\n",
       "      <td>3</td>\n",
       "      <td>Chubut</td>\n",
       "      <td>84.38</td>\n",
       "    </tr>\n",
       "  </tbody>\n",
       "</table>\n",
       "</div>"
      ],
      "text/plain": [
       "    Año  Trimestre        Provincia  Accesos por cada 100 hogares\n",
       "0  2022          3     Buenos Aires                         78.11\n",
       "1  2022          3  Capital Federal                        122.28\n",
       "2  2022          3        Catamarca                         65.33\n",
       "3  2022          3            Chaco                         43.86\n",
       "4  2022          3           Chubut                         84.38"
      ]
     },
     "execution_count": 38,
     "metadata": {},
     "output_type": "execute_result"
    }
   ],
   "source": [
    "df_acc_hogares.head()"
   ]
  },
  {
   "cell_type": "code",
   "execution_count": 39,
   "id": "1880b8d1",
   "metadata": {
    "code_folding": [
     0
    ]
   },
   "outputs": [],
   "source": [
    "# Funcióm para cambiar el dato en la columna 'Trimestre'\n",
    "\n",
    "def funcion(numero):\n",
    "    if numero == '1':\n",
    "        return '3'\n",
    "        \n",
    "    elif numero == '2':\n",
    "        return '6'\n",
    "        \n",
    "    elif numero == '3':\n",
    "        return '9'\n",
    "        \n",
    "    elif numero == '4':\n",
    "        \n",
    "        return '12'"
   ]
  },
  {
   "cell_type": "markdown",
   "id": "692104c4",
   "metadata": {},
   "source": [
    "<font size=\"4\">El siguiente Gráfico muestra las 5 provincias que han tenido mejores números de accesibilidad a lo largo del tiempo.</font>"
   ]
  },
  {
   "cell_type": "code",
   "execution_count": 208,
   "id": "a7fd6cd7",
   "metadata": {
    "code_folding": [],
    "scrolled": false
   },
   "outputs": [
    {
     "name": "stderr",
     "output_type": "stream",
     "text": [
      "C:\\Users\\Marlon\\AppData\\Local\\Temp\\ipykernel_7552\\958103945.py:8: SettingWithCopyWarning: \n",
      "A value is trying to be set on a copy of a slice from a DataFrame.\n",
      "Try using .loc[row_indexer,col_indexer] = value instead\n",
      "\n",
      "See the caveats in the documentation: https://pandas.pydata.org/pandas-docs/stable/user_guide/indexing.html#returning-a-view-versus-a-copy\n",
      "  df_top4['Fecha'] = pd.to_datetime(df_top4['Año'].astype(str) + '-' + df_top4['Trimestre'].astype(str).apply(funcion) + '-30')\n"
     ]
    },
    {
     "data": {
      "image/png": "[encoded data removed]",
      "text/plain": [
       "<Figure size 1200x800 with 1 Axes>"
      ]
     },
     "metadata": {},
     "output_type": "display_data"
    }
   ],
   "source": [
    "# Fitro de las 4 provincias con mejores números de accesibilidad\n",
    "provincias_top4 = df_acc_hogares.groupby('Provincia')['Accesos por cada 100 hogares'].mean().nlargest(5).index\n",
    "\n",
    "#provincias_top4 = provincias_top4[1:]\n",
    "df_top4 = df_acc_hogares[df_acc_hogares['Provincia'].isin(provincias_top4)]\n",
    "\n",
    "# Creamos una columna \"Fecha\" basada en el trimestre\n",
    "df_top4['Fecha'] = pd.to_datetime(df_top4['Año'].astype(str) + '-' + df_top4['Trimestre'].astype(str).apply(funcion) + '-30')\n",
    "\n",
    "#Gráfico de líneas para cada provincia\n",
    "fig, ax = plt.subplots(figsize=(12, 8))\n",
    "\n",
    "for provincia in provincias_top4:\n",
    "    df_provincia = df_top4[df_top4['Provincia'] == provincia]\n",
    "    ax.plot(df_provincia['Fecha'], df_provincia['Accesos por cada 100 hogares'], label=provincia)\n",
    "\n",
    "#Etiquetas\n",
    "ax.set_xlabel('Fecha')\n",
    "ax.set_ylabel('Accesos por cada 100 hogares')\n",
    "ax.set_title('Provincias con mejores números de accesibilidad')\n",
    "ax.legend()\n",
    "\n",
    "plt.ylim(40)\n",
    "\n",
    "plt.show()"
   ]
  },
  {
   "cell_type": "markdown",
   "id": "5856d561",
   "metadata": {},
   "source": [
    "<font size=\"4\">El gráfico anterior muestra las 5 provincias con un crecimiento sostenido en el tiempo respecto a accesos por cada 100 hogares, la provincia con más accesos históricamente ha sido la Capital Federal, su promedio para el tercer trimestre de 2022 supera los 120 accesos por cada 100 hogares, por la cantidad de habitantes de esta ciudad y a los servicios de telecomunicaciones de diversas organizaciones, haciendo que la media  sea superior a 100. La provincia Tierra Del Fuego presenta algo de variabilidad en sus cifras a lo largo del tiempo, esto puede deberse al tamaño de su población y otras causas externas. Las provincias de La Pampa, Córdoba y Buenos Aires presentan un crecimiento sostenido de sus cifras, por lo general el acceso por hogares en el país tiende a amentar cada año. </font>"
   ]
  },
  {
   "cell_type": "code",
   "execution_count": 41,
   "id": "6f9ec078",
   "metadata": {
    "scrolled": true
   },
   "outputs": [],
   "source": [
    "df_velocidad_media = pd.read_csv(\"Datasets_original/Velocidad_media_provincia (17).csv\")"
   ]
  },
  {
   "cell_type": "code",
   "execution_count": 42,
   "id": "076537d9",
   "metadata": {},
   "outputs": [],
   "source": [
    "df_velocidad_media['Mbps (Media de bajada)'] = df_velocidad_media['Mbps (Media de bajada)'].str.replace(',', '.').astype(float)"
   ]
  },
  {
   "cell_type": "code",
   "execution_count": 43,
   "id": "3d57357a",
   "metadata": {
    "scrolled": false
   },
   "outputs": [
    {
     "data": {
      "text/html": [
       "<div>\n",
       "<style scoped>\n",
       "    .dataframe tbody tr th:only-of-type {\n",
       "        vertical-align: middle;\n",
       "    }\n",
       "\n",
       "    .dataframe tbody tr th {\n",
       "        vertical-align: top;\n",
       "    }\n",
       "\n",
       "    .dataframe thead th {\n",
       "        text-align: right;\n",
       "    }\n",
       "</style>\n",
       "<table border=\"1\" class=\"dataframe\">\n",
       "  <thead>\n",
       "    <tr style=\"text-align: right;\">\n",
       "      <th></th>\n",
       "      <th>Año</th>\n",
       "      <th>Trimestre</th>\n",
       "      <th>Provincia</th>\n",
       "      <th>Mbps (Media de bajada)</th>\n",
       "    </tr>\n",
       "  </thead>\n",
       "  <tbody>\n",
       "    <tr>\n",
       "      <th>0</th>\n",
       "      <td>2022</td>\n",
       "      <td>3</td>\n",
       "      <td>Buenos Aires</td>\n",
       "      <td>70.19</td>\n",
       "    </tr>\n",
       "    <tr>\n",
       "      <th>1</th>\n",
       "      <td>2022</td>\n",
       "      <td>3</td>\n",
       "      <td>Capital Federal</td>\n",
       "      <td>101.05</td>\n",
       "    </tr>\n",
       "    <tr>\n",
       "      <th>2</th>\n",
       "      <td>2022</td>\n",
       "      <td>3</td>\n",
       "      <td>Catamarca</td>\n",
       "      <td>60.99</td>\n",
       "    </tr>\n",
       "    <tr>\n",
       "      <th>3</th>\n",
       "      <td>2022</td>\n",
       "      <td>3</td>\n",
       "      <td>Chaco</td>\n",
       "      <td>53.21</td>\n",
       "    </tr>\n",
       "    <tr>\n",
       "      <th>4</th>\n",
       "      <td>2022</td>\n",
       "      <td>3</td>\n",
       "      <td>Chubut</td>\n",
       "      <td>15.57</td>\n",
       "    </tr>\n",
       "  </tbody>\n",
       "</table>\n",
       "</div>"
      ],
      "text/plain": [
       "    Año  Trimestre        Provincia  Mbps (Media de bajada)\n",
       "0  2022          3     Buenos Aires                   70.19\n",
       "1  2022          3  Capital Federal                  101.05\n",
       "2  2022          3        Catamarca                   60.99\n",
       "3  2022          3            Chaco                   53.21\n",
       "4  2022          3           Chubut                   15.57"
      ]
     },
     "execution_count": 43,
     "metadata": {},
     "output_type": "execute_result"
    }
   ],
   "source": [
    "df_velocidad_media.head()"
   ]
  },
  {
   "cell_type": "code",
   "execution_count": 44,
   "id": "d000f89e",
   "metadata": {
    "code_folding": [],
    "scrolled": false
   },
   "outputs": [
    {
     "name": "stderr",
     "output_type": "stream",
     "text": [
      "C:\\Users\\Marlon\\AppData\\Local\\Temp\\ipykernel_7552\\2218844007.py:6: SettingWithCopyWarning: \n",
      "A value is trying to be set on a copy of a slice from a DataFrame.\n",
      "Try using .loc[row_indexer,col_indexer] = value instead\n",
      "\n",
      "See the caveats in the documentation: https://pandas.pydata.org/pandas-docs/stable/user_guide/indexing.html#returning-a-view-versus-a-copy\n",
      "  df_top5['Fecha'] = pd.to_datetime(df_top5['Año'].astype(str) + '-' + df_top5['Trimestre'].astype(str).apply(funcion) + '-30')\n"
     ]
    },
    {
     "data": {
      "image/png": "[encoded data removed]",
      "text/plain": [
       "<Figure size 1200x800 with 1 Axes>"
      ]
     },
     "metadata": {},
     "output_type": "display_data"
    }
   ],
   "source": [
    "# Fitro de las 5 provincias con mejores velocidades\n",
    "provincias_top5 = df_velocidad_media.groupby('Provincia')['Mbps (Media de bajada)'].max().nlargest(6).index\n",
    "df_top5 = df_velocidad_media[df_velocidad_media['Provincia'].isin(provincias_top5)]\n",
    "\n",
    "# Creamos una columna \"Fecha\" basada en el trimestre\n",
    "df_top5['Fecha'] = pd.to_datetime(df_top5['Año'].astype(str) + '-' + df_top5['Trimestre'].astype(str).apply(funcion) + '-30')\n",
    "\n",
    "#Gráfico de líneas para cada provincia\n",
    "fig, ax = plt.subplots(figsize=(12, 8))\n",
    "\n",
    "for provincia in provincias_top5:\n",
    "    df_provincia = df_top5[df_top5['Provincia'] == provincia]\n",
    "    ax.plot(df_provincia['Fecha'], df_provincia['Mbps (Media de bajada)'], label=provincia)\n",
    "\n",
    "#Etiquetas\n",
    "ax.set_xlabel('Fecha')\n",
    "ax.set_ylabel('Mbps (Media de bajada)')\n",
    "ax.set_title('Provincias con mejores velocidades de bajada')\n",
    "ax.legend()\n",
    "\n",
    "# Ajustes en el rango del eje x y el eje y\n",
    "plt.xlim(df_provincia['Fecha'][507], 19300)\n",
    "\n",
    "plt.show()"
   ]
  },
  {
   "cell_type": "markdown",
   "id": "5dcbe7d4",
   "metadata": {},
   "source": [
    "<font size=\"4\">En el anterior gráfico se muestran las 5 provincias con mayor media de bajada hasta la fecha, lo que concluye que históricamente la capital ha tenido las mejores velocidades y que las velocidades en el resto de las provincias aumentan con los años, esto indica que las personas tienden a contratar mejores planes, dándonos una visión de cómo mejorar los servicios prestados, aumentando la tasa de retención de clientes y con ello las ganancias. </font>"
   ]
  },
  {
   "cell_type": "code",
   "execution_count": 45,
   "id": "9f20861c",
   "metadata": {},
   "outputs": [
    {
     "name": "stderr",
     "output_type": "stream",
     "text": [
      "C:\\Users\\Marlon\\AppData\\Local\\Temp\\ipykernel_7552\\1352509856.py:3: FutureWarning: The default value of regex will change from True to False in a future version. In addition, single character regular expressions will *not* be treated as literal strings when regex=True.\n",
      "  df_banda['Total'] = df_banda['Total'].str.replace('.', '').astype(float)\n",
      "C:\\Users\\Marlon\\AppData\\Local\\Temp\\ipykernel_7552\\1352509856.py:5: FutureWarning: The default value of regex will change from True to False in a future version. In addition, single character regular expressions will *not* be treated as literal strings when regex=True.\n",
      "  df_banda['Banda ancha fija'] = df_banda['Banda ancha fija'].str.replace('.', '').astype(float)\n",
      "C:\\Users\\Marlon\\AppData\\Local\\Temp\\ipykernel_7552\\1352509856.py:8: FutureWarning: The default value of regex will change from True to False in a future version. In addition, single character regular expressions will *not* be treated as literal strings when regex=True.\n",
      "  df_banda['Dial up'] = df_banda['Dial up'].str.replace('.', '').astype(float)\n"
     ]
    }
   ],
   "source": [
    "# Aplicación de transformaciones correspondientes\n",
    "\n",
    "df_banda['Total'] = df_banda['Total'].str.replace('.', '').astype(float)\n",
    "\n",
    "df_banda['Banda ancha fija'] = df_banda['Banda ancha fija'].str.replace('.', '').astype(float)\n",
    "\n",
    "df_banda['Dial up'] = df_banda['Dial up'].str.replace('- 0', '0')\n",
    "df_banda['Dial up'] = df_banda['Dial up'].str.replace('.', '').astype(float)"
   ]
  },
  {
   "cell_type": "code",
   "execution_count": 46,
   "id": "8ceec2f7",
   "metadata": {
    "scrolled": true
   },
   "outputs": [
    {
     "data": {
      "text/html": [
       "<div>\n",
       "<style scoped>\n",
       "    .dataframe tbody tr th:only-of-type {\n",
       "        vertical-align: middle;\n",
       "    }\n",
       "\n",
       "    .dataframe tbody tr th {\n",
       "        vertical-align: top;\n",
       "    }\n",
       "\n",
       "    .dataframe thead th {\n",
       "        text-align: right;\n",
       "    }\n",
       "</style>\n",
       "<table border=\"1\" class=\"dataframe\">\n",
       "  <thead>\n",
       "    <tr style=\"text-align: right;\">\n",
       "      <th></th>\n",
       "      <th>Año</th>\n",
       "      <th>Trimestre</th>\n",
       "      <th>Provincia</th>\n",
       "      <th>Banda ancha fija</th>\n",
       "      <th>Dial up</th>\n",
       "      <th>Total</th>\n",
       "    </tr>\n",
       "  </thead>\n",
       "  <tbody>\n",
       "    <tr>\n",
       "      <th>0</th>\n",
       "      <td>2022</td>\n",
       "      <td>3</td>\n",
       "      <td>Buenos Aires</td>\n",
       "      <td>4715469.0</td>\n",
       "      <td>6199.0</td>\n",
       "      <td>4721668.0</td>\n",
       "    </tr>\n",
       "    <tr>\n",
       "      <th>1</th>\n",
       "      <td>2022</td>\n",
       "      <td>3</td>\n",
       "      <td>Capital Federal</td>\n",
       "      <td>1545534.0</td>\n",
       "      <td>2145.0</td>\n",
       "      <td>1547679.0</td>\n",
       "    </tr>\n",
       "    <tr>\n",
       "      <th>2</th>\n",
       "      <td>2022</td>\n",
       "      <td>3</td>\n",
       "      <td>Catamarca</td>\n",
       "      <td>70292.0</td>\n",
       "      <td>1.0</td>\n",
       "      <td>70293.0</td>\n",
       "    </tr>\n",
       "    <tr>\n",
       "      <th>3</th>\n",
       "      <td>2022</td>\n",
       "      <td>3</td>\n",
       "      <td>Chaco</td>\n",
       "      <td>144141.0</td>\n",
       "      <td>5.0</td>\n",
       "      <td>144146.0</td>\n",
       "    </tr>\n",
       "    <tr>\n",
       "      <th>4</th>\n",
       "      <td>2022</td>\n",
       "      <td>3</td>\n",
       "      <td>Chubut</td>\n",
       "      <td>164874.0</td>\n",
       "      <td>904.0</td>\n",
       "      <td>165778.0</td>\n",
       "    </tr>\n",
       "  </tbody>\n",
       "</table>\n",
       "</div>"
      ],
      "text/plain": [
       "    Año  Trimestre        Provincia  Banda ancha fija  Dial up      Total\n",
       "0  2022          3     Buenos Aires         4715469.0   6199.0  4721668.0\n",
       "1  2022          3  Capital Federal         1545534.0   2145.0  1547679.0\n",
       "2  2022          3        Catamarca           70292.0      1.0    70293.0\n",
       "3  2022          3            Chaco          144141.0      5.0   144146.0\n",
       "4  2022          3           Chubut          164874.0    904.0   165778.0"
      ]
     },
     "execution_count": 46,
     "metadata": {},
     "output_type": "execute_result"
    }
   ],
   "source": [
    "df_banda.head()"
   ]
  },
  {
   "cell_type": "code",
   "execution_count": 47,
   "id": "0a9c7cdb",
   "metadata": {
    "code_folding": [],
    "scrolled": false
   },
   "outputs": [
    {
     "data": {
      "image/png": "[encoded data removed]",
      "text/plain": [
       "<Figure size 640x480 with 1 Axes>"
      ]
     },
     "metadata": {},
     "output_type": "display_data"
    }
   ],
   "source": [
    "# Filtro de las 5 provincias por tipo de conexión. \n",
    "\n",
    "provincias_top5 = df_banda.groupby('Provincia')['Dial up'].max().nlargest(5).index\n",
    "df_top5 = df_banda[df_banda['Provincia'].isin(provincias_top5)]\n",
    "banda_ancha = df_top5['Banda ancha fija'].tail(5)\n",
    "dial_up = df_banda.groupby('Provincia')['Dial up'].max().nlargest(5).values\n",
    "provincia = provincias_top5.to_list()\n",
    "\n",
    "# Crear un array de posiciones para las barras\n",
    "x = np.arange(len(provincia))\n",
    "\n",
    "# Ancho de las barras\n",
    "bar_width = 0.35\n",
    "\n",
    "# Crear la figura y los ejes\n",
    "fig, ax = plt.subplots()\n",
    "\n",
    "# Graficar las barras para Banda ancha fija\n",
    "rects1 = ax.bar(x, banda_ancha, bar_width, color='blue', label='Banda ancha fija')\n",
    "\n",
    "# Graficar las barras para Dial up\n",
    "rects2 = ax.bar(x + bar_width, dial_up, bar_width, color='red', label='Dial up')\n",
    "\n",
    "# Agregar etiquetas en el eje x\n",
    "ax.set_xticks(x + bar_width / 2)\n",
    "ax.set_xticklabels(provincia, rotation=45)\n",
    "\n",
    "# Agregar una leyenda\n",
    "ax.legend()\n",
    "\n",
    "# Configurar las etiquetas de los ejes\n",
    "ax.set_xlabel('Provincia')\n",
    "ax.set_ylabel('Valores en Millones')\n",
    "\n",
    "# Configurar el título del gráfico\n",
    "ax.set_title('Comparación entre Banda ancha fija y Dial up')\n",
    "\n",
    "# Mostrar el gráfico\n",
    "plt.show()"
   ]
  },
  {
   "cell_type": "markdown",
   "id": "3104921f",
   "metadata": {},
   "source": [
    "<font size=\"4\">En el anterior gráfico se muestra la comparación entre banda ancha fija y Dial up, se hace evidente que la mayoría de las conexiones se hacen por banda ancha fija y que Dial up aporta poco más del 1% del total, esto es debido a que la velocidad de conexión con dial-up es muy lenta en comparación con otras formas de conexión a internet.  </font>"
   ]
  },
  {
   "cell_type": "code",
   "execution_count": 48,
   "id": "3c588381",
   "metadata": {
    "scrolled": true
   },
   "outputs": [
    {
     "name": "stderr",
     "output_type": "stream",
     "text": [
      "C:\\Users\\Marlon\\AppData\\Local\\Temp\\ipykernel_7552\\3151935977.py:6: FutureWarning: The default value of regex will change from True to False in a future version. In addition, single character regular expressions will *not* be treated as literal strings when regex=True.\n",
      "  df_acc_tecnologia[i] = df_acc_tecnologia[i].str.replace('.','')\n"
     ]
    }
   ],
   "source": [
    "# Normalización de columnas numéricas\n",
    "\n",
    "columnas =['ADSL', 'Cablemodem', 'Fibra óptica', 'Wireless','Otros','Total']\n",
    "\n",
    "for i in columnas:\n",
    "    df_acc_tecnologia[i] = df_acc_tecnologia[i].str.replace('.','')"
   ]
  },
  {
   "cell_type": "code",
   "execution_count": 49,
   "id": "c99aa582",
   "metadata": {
    "scrolled": true
   },
   "outputs": [],
   "source": [
    "for i in columnas:\n",
    "    df_acc_tecnologia[i] = df_acc_tecnologia[i].astype(int)"
   ]
  },
  {
   "cell_type": "code",
   "execution_count": 50,
   "id": "90322c4c",
   "metadata": {},
   "outputs": [
    {
     "data": {
      "text/html": [
       "<div>\n",
       "<style scoped>\n",
       "    .dataframe tbody tr th:only-of-type {\n",
       "        vertical-align: middle;\n",
       "    }\n",
       "\n",
       "    .dataframe tbody tr th {\n",
       "        vertical-align: top;\n",
       "    }\n",
       "\n",
       "    .dataframe thead th {\n",
       "        text-align: right;\n",
       "    }\n",
       "</style>\n",
       "<table border=\"1\" class=\"dataframe\">\n",
       "  <thead>\n",
       "    <tr style=\"text-align: right;\">\n",
       "      <th></th>\n",
       "      <th>Año</th>\n",
       "      <th>Trimestre</th>\n",
       "      <th>ADSL</th>\n",
       "      <th>Cablemodem</th>\n",
       "      <th>Fibra óptica</th>\n",
       "      <th>Wireless</th>\n",
       "      <th>Otros</th>\n",
       "      <th>Total</th>\n",
       "      <th>Periodo</th>\n",
       "    </tr>\n",
       "  </thead>\n",
       "  <tbody>\n",
       "    <tr>\n",
       "      <th>0</th>\n",
       "      <td>2022</td>\n",
       "      <td>3</td>\n",
       "      <td>1395277</td>\n",
       "      <td>6031970</td>\n",
       "      <td>2871541</td>\n",
       "      <td>557110</td>\n",
       "      <td>235230</td>\n",
       "      <td>11091128</td>\n",
       "      <td>Jul-Sept 2022</td>\n",
       "    </tr>\n",
       "    <tr>\n",
       "      <th>1</th>\n",
       "      <td>2022</td>\n",
       "      <td>2</td>\n",
       "      <td>1468333</td>\n",
       "      <td>5979214</td>\n",
       "      <td>2723285</td>\n",
       "      <td>556243</td>\n",
       "      <td>231609</td>\n",
       "      <td>10958684</td>\n",
       "      <td>Abr-Jun 2022</td>\n",
       "    </tr>\n",
       "    <tr>\n",
       "      <th>2</th>\n",
       "      <td>2022</td>\n",
       "      <td>1</td>\n",
       "      <td>1533240</td>\n",
       "      <td>6073426</td>\n",
       "      <td>2219533</td>\n",
       "      <td>545814</td>\n",
       "      <td>251996</td>\n",
       "      <td>10624009</td>\n",
       "      <td>Ene-Mar 2022</td>\n",
       "    </tr>\n",
       "    <tr>\n",
       "      <th>3</th>\n",
       "      <td>2021</td>\n",
       "      <td>4</td>\n",
       "      <td>1657615</td>\n",
       "      <td>5984240</td>\n",
       "      <td>2072236</td>\n",
       "      <td>523107</td>\n",
       "      <td>252596</td>\n",
       "      <td>10489794</td>\n",
       "      <td>Oct-Dic 2021</td>\n",
       "    </tr>\n",
       "    <tr>\n",
       "      <th>4</th>\n",
       "      <td>2021</td>\n",
       "      <td>3</td>\n",
       "      <td>1950631</td>\n",
       "      <td>5826257</td>\n",
       "      <td>1566048</td>\n",
       "      <td>492415</td>\n",
       "      <td>250190</td>\n",
       "      <td>10085541</td>\n",
       "      <td>Jul-Sept 2021</td>\n",
       "    </tr>\n",
       "  </tbody>\n",
       "</table>\n",
       "</div>"
      ],
      "text/plain": [
       "    Año  Trimestre     ADSL  Cablemodem  Fibra óptica  Wireless   Otros  \\\n",
       "0  2022          3  1395277     6031970       2871541    557110  235230   \n",
       "1  2022          2  1468333     5979214       2723285    556243  231609   \n",
       "2  2022          1  1533240     6073426       2219533    545814  251996   \n",
       "3  2021          4  1657615     5984240       2072236    523107  252596   \n",
       "4  2021          3  1950631     5826257       1566048    492415  250190   \n",
       "\n",
       "      Total        Periodo  \n",
       "0  11091128  Jul-Sept 2022  \n",
       "1  10958684   Abr-Jun 2022  \n",
       "2  10624009   Ene-Mar 2022  \n",
       "3  10489794   Oct-Dic 2021  \n",
       "4  10085541  Jul-Sept 2021  "
      ]
     },
     "execution_count": 50,
     "metadata": {},
     "output_type": "execute_result"
    }
   ],
   "source": [
    "df_acc_tecnologia.head()"
   ]
  },
  {
   "cell_type": "code",
   "execution_count": 205,
   "id": "0133f9aa",
   "metadata": {
    "scrolled": false
   },
   "outputs": [
    {
     "data": {
      "image/png": "[encoded data removed]",
      "text/plain": [
       "<Figure size 500x500 with 1 Axes>"
      ]
     },
     "metadata": {},
     "output_type": "display_data"
    }
   ],
   "source": [
    "categorias = ['ADSL', 'Cablemodem', 'Fibra óptica', 'Wireless', 'Otros']\n",
    "\n",
    "valores = df_acc_tecnologia.iloc[0,2:7].tolist()\n",
    "\n",
    "# Crear un nuevo DataFrame utilizando las listas de categorías y valores\n",
    "data = pd.DataFrame({'Tipo de tecnología': categorias, 'Valores': valores})\n",
    "\n",
    "# Dividir los valores por un millón para mostrarlos en millones\n",
    "data['Número de accesos (M)'] = data['Valores'] / 1000000\n",
    "\n",
    "# Generar el Catplot utilizando la columna de Valores (M)\n",
    "plot = sns.catplot(x='Tipo de tecnología', y='Número de accesos (M)', data=data, kind='bar')\n",
    "\n",
    "plt.title('Número de accesos por tipo de tecnología')\n",
    "\n",
    "# Crear un objeto de formateo para mostrar los valores en millones\n",
    "formatter = ticker.FuncFormatter(lambda x, pos: f'{x}M')\n",
    "\n",
    "# Aplicar el formateo a los ticks del eje y\n",
    "plot.ax.yaxis.set_major_formatter(formatter)\n",
    "\n",
    "plot.set_xticklabels(categorias, rotation=15)\n",
    "\n",
    "plt.show()"
   ]
  },
  {
   "cell_type": "markdown",
   "id": "85ec02b3",
   "metadata": {},
   "source": [
    "<font size=\"4\">En el anterior gráfico se muestra el número de accesos por tipo de tecnología, este gráfico varía según el año en que se configure, mostrando que tecnologías como ADSL han disminuido sus accesos con el tiempo, y tecnologías como Cablemódem y Fibra óptica han aumentado. Con lo anterior se deben mejorar la calidad de los servicios si queremos aumentar la fidelización de clientes y ampliar el rango de personas que pueden acceder a este tipo de tecnologías mejorando la infraestructura disponible. </font>"
   ]
  },
  {
   "cell_type": "code",
   "execution_count": 52,
   "id": "0bb14b97",
   "metadata": {},
   "outputs": [],
   "source": [
    "df_acc_tecnologia_prov = pd.read_csv(\"Datasets_original/Acc_tecnologia_prov (19).csv\", dtype={'Wireless': str, 'Otros': str})"
   ]
  },
  {
   "cell_type": "code",
   "execution_count": 53,
   "id": "38fb47f1",
   "metadata": {},
   "outputs": [],
   "source": [
    "df_acc_tecnologia_prov = df_acc_tecnologia_prov[:840]"
   ]
  },
  {
   "cell_type": "code",
   "execution_count": 54,
   "id": "7f1b40b9",
   "metadata": {
    "scrolled": true
   },
   "outputs": [
    {
     "name": "stderr",
     "output_type": "stream",
     "text": [
      "C:\\Users\\Marlon\\AppData\\Local\\Temp\\ipykernel_7552\\42023297.py:2: FutureWarning: The default value of regex will change from True to False in a future version. In addition, single character regular expressions will *not* be treated as literal strings when regex=True.\n",
      "  df_acc_tecnologia_prov[i] = df_acc_tecnologia_prov[i].str.replace('.','')\n"
     ]
    }
   ],
   "source": [
    "for i in columnas:\n",
    "    df_acc_tecnologia_prov[i] = df_acc_tecnologia_prov[i].str.replace('.','')\n",
    "    \n",
    "for i in columnas:\n",
    "    df_acc_tecnologia_prov[i] = df_acc_tecnologia_prov[i].astype(int)"
   ]
  },
  {
   "cell_type": "code",
   "execution_count": 55,
   "id": "432c4354",
   "metadata": {},
   "outputs": [],
   "source": [
    "df_acc_tecnologia_prov['Provincia'] = df_acc_tecnologia_prov['Provincia'].str.strip()"
   ]
  },
  {
   "cell_type": "code",
   "execution_count": 135,
   "id": "fdb487ad",
   "metadata": {
    "code_folding": [],
    "scrolled": false
   },
   "outputs": [
    {
     "data": {
      "image/png": "[encoded data removed]",
      "text/plain": [
       "<Figure size 640x480 with 1 Axes>"
      ]
     },
     "metadata": {},
     "output_type": "display_data"
    }
   ],
   "source": [
    "# Datos para los conjuntos de barras\n",
    "x = df_acc_tecnologia_prov.groupby('Provincia')['Total'].mean().nlargest(5).index\n",
    "\n",
    "df_top5 = df_acc_tecnologia_prov[df_acc_tecnologia_prov['Provincia'].isin(x)]\n",
    "\n",
    "df_top5 = df_top5[['Provincia','Cablemodem','Fibra óptica','ADSL','Wireless','Otros']].head().sort_values(by=['Cablemodem'], ascending = False)\n",
    "\n",
    "y1 = [i / 1000000 for i in df_top5['Cablemodem']]\n",
    "y2 = [i / 1000000 for i in df_top5['Fibra óptica']]\n",
    "y3 = [i / 1000000 for i in df_top5['ADSL']]\n",
    "y4 = [i / 1000000 for i in df_top5['Wireless']]\n",
    "y5 = [i / 1000000 for i in df_top5['Otros']]\n",
    "                                          \n",
    "# Creamos el gráfico de barras sobrepuesto\n",
    "width = 0.55  # Ancho de las barras\n",
    "offsets = np.linspace(-2 * width, 2 * width, 5)  # Desplazamientos\n",
    "\n",
    "plt.bar(x, y1, width=width, color='blue', alpha=0.6, label='Cablemodem', align='center', edgecolor='black')\n",
    "plt.bar(x, y2, width=width, color='red', alpha=0.7, label='Fibra óptica', align='edge', edgecolor='black')\n",
    "plt.bar(x, y3, width=width, color='yellow', alpha=0.7, label='ADSL', align='edge', edgecolor='black')\n",
    "plt.bar(x, y4, width=width, color='green', alpha=0.7, label='Wireless', align='edge', edgecolor='black')\n",
    "plt.bar(x, y5, width=width, color='purple', alpha=0.7, label='Otros', align='edge', edgecolor='black')\n",
    "\n",
    "# Añadimos etiquetas y título al gráfico\n",
    "plt.xlabel('Provincia')\n",
    "plt.ylabel('Número de accesos (M)')\n",
    "plt.title('Número de accesos por tipo de tecnología y provincia')\n",
    "\n",
    "plt.xticks(rotation=15)\n",
    "\n",
    "formatter = ticker.FuncFormatter(lambda x, pos: f'{round(x,1)}M')\n",
    "plt.gca().yaxis.set_major_formatter(formatter)\n",
    "\n",
    "plt.legend()\n",
    "\n",
    "plt.show()"
   ]
  },
  {
   "cell_type": "markdown",
   "id": "4dc22995",
   "metadata": {
    "scrolled": true
   },
   "source": [
    "<font size=\"4\">En el anterior gráfico se muestra cómo se distribuye la tecnología en cada provincia, con datos del tercer trimestre del 2022, nuevamente podemos decir que tecnologías como Cablemódem y Fibra óptica aumentaron su número de accesos, esta vez tenemos organizados los datos por las provincias con mayores accesos, lo que indica que son las provincias con mayor tasa de acceso por habitantes, ya que tienen la mayoría de la población del país. </font>"
   ]
  },
  {
   "cell_type": "code",
   "execution_count": 57,
   "id": "4b1cf933",
   "metadata": {
    "scrolled": false
   },
   "outputs": [
    {
     "data": {
      "image/png": "[encoded data removed]",
      "text/plain": [
       "<Figure size 640x480 with 1 Axes>"
      ]
     },
     "metadata": {},
     "output_type": "display_data"
    }
   ],
   "source": [
    "plt.scatter(df_acc_hogares['Accesos por cada 100 hogares'], df_velocidad_media['Mbps (Media de bajada)'], alpha=0.5)\n",
    "\n",
    "# Personalizar el scatter plot\n",
    "plt.title(\"Relación entre accesos por cada 100 hogares y velocidad media de bajada\")\n",
    "plt.xlabel(\"Accesos por cada 100 hogares\")\n",
    "plt.ylabel(\"Mbps (Media de bajada)\")\n",
    "\n",
    "plt.show()"
   ]
  },
  {
   "cell_type": "code",
   "execution_count": 58,
   "id": "3543d5f7",
   "metadata": {
    "scrolled": true
   },
   "outputs": [
    {
     "name": "stderr",
     "output_type": "stream",
     "text": [
      "C:\\Users\\Marlon\\AppData\\Local\\Temp\\ipykernel_7552\\848181085.py:4: FutureWarning: The default value of regex will change from True to False in a future version. In addition, single character regular expressions will *not* be treated as literal strings when regex=True.\n",
      "  df_acc_tecnologia_prov[i] = df_acc_tecnologia_prov[i].str.replace('*','')\n"
     ]
    }
   ],
   "source": [
    "columnas = ['Año','Trimestre']\n",
    "\n",
    "for i in columnas:\n",
    "    df_acc_tecnologia_prov[i] = df_acc_tecnologia_prov[i].str.replace('*','')\n",
    "    \n",
    "for i in columnas:\n",
    "    df_acc_tecnologia_prov[i] = df_acc_tecnologia_prov[i].astype(int)"
   ]
  },
  {
   "cell_type": "code",
   "execution_count": 65,
   "id": "1eebbaa1",
   "metadata": {},
   "outputs": [],
   "source": [
    "df_acc_tecnologia_prov['fecha'] = df_acc_tecnologia_prov.apply(lambda row: pd.to_datetime(str(row['Año']) + 'Q' + str(row['Trimestre'])), axis=1)"
   ]
  },
  {
   "cell_type": "code",
   "execution_count": 140,
   "id": "feee4db5",
   "metadata": {},
   "outputs": [],
   "source": [
    "df_velocidad_media['fecha'] = df_velocidad_media.apply(lambda row: pd.to_datetime(str(row['Año']) + 'Q' + str(row['Trimestre'])), axis=1)"
   ]
  },
  {
   "cell_type": "code",
   "execution_count": 190,
   "id": "1d6c72fd",
   "metadata": {},
   "outputs": [
    {
     "data": {
      "text/html": [
       "<div>\n",
       "<style scoped>\n",
       "    .dataframe tbody tr th:only-of-type {\n",
       "        vertical-align: middle;\n",
       "    }\n",
       "\n",
       "    .dataframe tbody tr th {\n",
       "        vertical-align: top;\n",
       "    }\n",
       "\n",
       "    .dataframe thead th {\n",
       "        text-align: right;\n",
       "    }\n",
       "</style>\n",
       "<table border=\"1\" class=\"dataframe\">\n",
       "  <thead>\n",
       "    <tr style=\"text-align: right;\">\n",
       "      <th></th>\n",
       "      <th>Año</th>\n",
       "      <th>Trimestre</th>\n",
       "      <th>Provincia</th>\n",
       "      <th>ADSL</th>\n",
       "      <th>Cablemodem</th>\n",
       "      <th>Fibra óptica</th>\n",
       "      <th>Wireless</th>\n",
       "      <th>Otros</th>\n",
       "      <th>Total</th>\n",
       "      <th>fecha</th>\n",
       "    </tr>\n",
       "  </thead>\n",
       "  <tbody>\n",
       "    <tr>\n",
       "      <th>0</th>\n",
       "      <td>2022</td>\n",
       "      <td>3</td>\n",
       "      <td>Buenos Aires</td>\n",
       "      <td>339648</td>\n",
       "      <td>2748325</td>\n",
       "      <td>1436433</td>\n",
       "      <td>126846</td>\n",
       "      <td>70416</td>\n",
       "      <td>4721668</td>\n",
       "      <td>2022-07-01</td>\n",
       "    </tr>\n",
       "    <tr>\n",
       "      <th>1</th>\n",
       "      <td>2022</td>\n",
       "      <td>3</td>\n",
       "      <td>Capital Federal</td>\n",
       "      <td>140791</td>\n",
       "      <td>1240125</td>\n",
       "      <td>129218</td>\n",
       "      <td>5758</td>\n",
       "      <td>31787</td>\n",
       "      <td>1547679</td>\n",
       "      <td>2022-07-01</td>\n",
       "    </tr>\n",
       "    <tr>\n",
       "      <th>2</th>\n",
       "      <td>2022</td>\n",
       "      <td>3</td>\n",
       "      <td>Catamarca</td>\n",
       "      <td>10010</td>\n",
       "      <td>10495</td>\n",
       "      <td>46224</td>\n",
       "      <td>1329</td>\n",
       "      <td>2235</td>\n",
       "      <td>70293</td>\n",
       "      <td>2022-07-01</td>\n",
       "    </tr>\n",
       "    <tr>\n",
       "      <th>3</th>\n",
       "      <td>2022</td>\n",
       "      <td>3</td>\n",
       "      <td>Chaco</td>\n",
       "      <td>27164</td>\n",
       "      <td>61800</td>\n",
       "      <td>44645</td>\n",
       "      <td>8178</td>\n",
       "      <td>2359</td>\n",
       "      <td>144146</td>\n",
       "      <td>2022-07-01</td>\n",
       "    </tr>\n",
       "    <tr>\n",
       "      <th>4</th>\n",
       "      <td>2022</td>\n",
       "      <td>3</td>\n",
       "      <td>Chubut</td>\n",
       "      <td>45377</td>\n",
       "      <td>72212</td>\n",
       "      <td>9574</td>\n",
       "      <td>29784</td>\n",
       "      <td>8831</td>\n",
       "      <td>165778</td>\n",
       "      <td>2022-07-01</td>\n",
       "    </tr>\n",
       "  </tbody>\n",
       "</table>\n",
       "</div>"
      ],
      "text/plain": [
       "    Año  Trimestre        Provincia    ADSL  Cablemodem  Fibra óptica  \\\n",
       "0  2022          3     Buenos Aires  339648     2748325       1436433   \n",
       "1  2022          3  Capital Federal  140791     1240125        129218   \n",
       "2  2022          3        Catamarca   10010       10495         46224   \n",
       "3  2022          3            Chaco   27164       61800         44645   \n",
       "4  2022          3           Chubut   45377       72212          9574   \n",
       "\n",
       "   Wireless  Otros    Total      fecha  \n",
       "0    126846  70416  4721668 2022-07-01  \n",
       "1      5758  31787  1547679 2022-07-01  \n",
       "2      1329   2235    70293 2022-07-01  \n",
       "3      8178   2359   144146 2022-07-01  \n",
       "4     29784   8831   165778 2022-07-01  "
      ]
     },
     "execution_count": 190,
     "metadata": {},
     "output_type": "execute_result"
    }
   ],
   "source": [
    "df_acc_tecnologia_prov.head()"
   ]
  },
  {
   "cell_type": "code",
   "execution_count": 187,
   "id": "2fb84bca",
   "metadata": {
    "collapsed": true
   },
   "outputs": [
    {
     "data": {
      "text/html": [
       "<div>\n",
       "<style scoped>\n",
       "    .dataframe tbody tr th:only-of-type {\n",
       "        vertical-align: middle;\n",
       "    }\n",
       "\n",
       "    .dataframe tbody tr th {\n",
       "        vertical-align: top;\n",
       "    }\n",
       "\n",
       "    .dataframe thead th {\n",
       "        text-align: right;\n",
       "    }\n",
       "</style>\n",
       "<table border=\"1\" class=\"dataframe\">\n",
       "  <thead>\n",
       "    <tr style=\"text-align: right;\">\n",
       "      <th></th>\n",
       "      <th>Año</th>\n",
       "      <th>Trimestre</th>\n",
       "      <th>Provincia</th>\n",
       "      <th>Mbps (Media de bajada)</th>\n",
       "      <th>fecha</th>\n",
       "    </tr>\n",
       "  </thead>\n",
       "  <tbody>\n",
       "    <tr>\n",
       "      <th>0</th>\n",
       "      <td>2022</td>\n",
       "      <td>3</td>\n",
       "      <td>Buenos Aires</td>\n",
       "      <td>70.19</td>\n",
       "      <td>2022-07-01</td>\n",
       "    </tr>\n",
       "    <tr>\n",
       "      <th>1</th>\n",
       "      <td>2022</td>\n",
       "      <td>3</td>\n",
       "      <td>Capital Federal</td>\n",
       "      <td>101.05</td>\n",
       "      <td>2022-07-01</td>\n",
       "    </tr>\n",
       "    <tr>\n",
       "      <th>2</th>\n",
       "      <td>2022</td>\n",
       "      <td>3</td>\n",
       "      <td>Catamarca</td>\n",
       "      <td>60.99</td>\n",
       "      <td>2022-07-01</td>\n",
       "    </tr>\n",
       "    <tr>\n",
       "      <th>3</th>\n",
       "      <td>2022</td>\n",
       "      <td>3</td>\n",
       "      <td>Chaco</td>\n",
       "      <td>53.21</td>\n",
       "      <td>2022-07-01</td>\n",
       "    </tr>\n",
       "    <tr>\n",
       "      <th>4</th>\n",
       "      <td>2022</td>\n",
       "      <td>3</td>\n",
       "      <td>Chubut</td>\n",
       "      <td>15.57</td>\n",
       "      <td>2022-07-01</td>\n",
       "    </tr>\n",
       "  </tbody>\n",
       "</table>\n",
       "</div>"
      ],
      "text/plain": [
       "    Año  Trimestre        Provincia  Mbps (Media de bajada)      fecha\n",
       "0  2022          3     Buenos Aires                   70.19 2022-07-01\n",
       "1  2022          3  Capital Federal                  101.05 2022-07-01\n",
       "2  2022          3        Catamarca                   60.99 2022-07-01\n",
       "3  2022          3            Chaco                   53.21 2022-07-01\n",
       "4  2022          3           Chubut                   15.57 2022-07-01"
      ]
     },
     "execution_count": 187,
     "metadata": {},
     "output_type": "execute_result"
    }
   ],
   "source": [
    "df_velocidad_media.head()"
   ]
  },
  {
   "cell_type": "code",
   "execution_count": 209,
   "id": "e799e0f5",
   "metadata": {
    "code_folding": [],
    "scrolled": false
   },
   "outputs": [
    {
     "data": {
      "image/png": "[encoded data removed]",
      "text/plain": [
       "<Figure size 640x480 with 2 Axes>"
      ]
     },
     "metadata": {},
     "output_type": "display_data"
    }
   ],
   "source": [
    "# Creación de los datos\n",
    "df_trimestral = df_acc_tecnologia_prov.groupby(pd.Grouper(key='fecha', freq='Q')).sum()\n",
    "df_trimestral2 = df_velocidad_media.groupby(pd.Grouper(key='fecha', freq='Q')).mean()\n",
    "\n",
    "año = df_trimestral.index\n",
    "categoria1 = df_trimestral['Cablemodem']/1000000\n",
    "categoria2 = df_trimestral['Fibra óptica']/1000000\n",
    "categoria3 = df_trimestral2['Mbps (Media de bajada)']\n",
    "\n",
    "# Figura y primer eje\n",
    "fig, ax1 = plt.subplots()\n",
    "ax1.plot(año, categoria1, color=\"blue\", alpha=0.5, label=\"Cablemodem\")\n",
    "ax1.plot(año, categoria2, color=\"blue\", label=\"Fibra óptica\")\n",
    "ax1.set_xlabel(\"Año\")\n",
    "ax1.set_ylabel(\"Suma de accesos de Tipo de tecnología\", color=\"blue\")\n",
    "ax1.tick_params(axis=\"y\", labelcolor=\"blue\")\n",
    "\n",
    "formatter = ticker.FuncFormatter(lambda x, pos: f'{round(x)}M')\n",
    "plt.gca().yaxis.set_major_formatter(formatter)\n",
    "\n",
    "# Creamos el segundo eje que comparte el mismo eje x\n",
    "ax2 = ax1.twinx()\n",
    "ax2.plot(año, categoria3, color=\"green\")\n",
    "ax2.set_ylabel(\"Mbps (Media de bajada)\", color=\"green\")\n",
    "ax2.tick_params(axis=\"y\", labelcolor=\"green\")\n",
    "\n",
    "# Agregamos leyendas al primer eje\n",
    "ax1.legend()\n",
    "\n",
    "# Mostrar gráfica\n",
    "plt.title(\"Relación entre tipo de tecnología y velocidad de bajada\")\n",
    "plt.show()\n"
   ]
  },
  {
   "cell_type": "code",
   "execution_count": null,
   "id": "ae04d21f",
   "metadata": {},
   "outputs": [],
   "source": [
    "df_map_tecnologias.to_csv('Datasets/Map_tecnologias.csv', index=False)\n",
    "\n",
    "df_acc_hogares.to_csv('Datasets/Acc_hogares.csv', index=False)\n",
    "\n",
    "df_velocidad_media.to_csv('Datasets/Velocidad_media.csv', index=False)\n",
    "\n",
    "df_banda.to_csv('Datasets/Tipo_banda.csv', index=False)\n",
    "\n",
    "df_acc_tecnologia_prov.to_csv('Datasets/Acc_tecnologia_prov.csv', index=False)\n",
    "\n",
    "df_acc_tecnologia.to_csv('Datasets/Acc_tecnologia.csv', index=False)\n",
    "\n",
    "df_ingreso_operadores.to_csv('Datasets/Ingreso_operadores.csv', index=False)"
   ]
  }
 ],
 "metadata": {
  "kernelspec": {
   "display_name": "Python 3 (ipykernel)",
   "language": "python",
   "name": "python3"
  },
  "language_info": {
   "codemirror_mode": {
    "name": "ipython",
    "version": 3
   },
   "file_extension": ".py",
   "mimetype": "text/x-python",
   "name": "python",
   "nbconvert_exporter": "python",
   "pygments_lexer": "ipython3",
   "version": "3.9.13"
  },
  "toc": {
   "base_numbering": 1,
   "nav_menu": {},
   "number_sections": true,
   "sideBar": true,
   "skip_h1_title": false,
   "title_cell": "Table of Contents",
   "title_sidebar": "Contents",
   "toc_cell": false,
   "toc_position": {},
   "toc_section_display": true,
   "toc_window_display": false
  }
 },
 "nbformat": 4,
 "nbformat_minor": 5
}
